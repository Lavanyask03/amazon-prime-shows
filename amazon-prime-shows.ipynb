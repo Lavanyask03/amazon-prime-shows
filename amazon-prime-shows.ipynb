{
 "cells": [
  {
   "cell_type": "markdown",
   "metadata": {
    "papermill": {
     "duration": 0.038837,
     "end_time": "2020-10-03T11:33:29.791297",
     "exception": false,
     "start_time": "2020-10-03T11:33:29.752460",
     "status": "completed"
    },
    "tags": []
   },
   "source": [
    "# Importing libraries"
   ]
  },
  {
   "cell_type": "code",
   "execution_count": 1,
   "metadata": {
    "_cell_guid": "b1076dfc-b9ad-4769-8c92-a6c4dae69d19",
    "_uuid": "8f2839f25d086af736a60e9eeb907d3b93b6e0e5",
    "execution": {
     "iopub.execute_input": "2020-10-03T11:33:29.874140Z",
     "iopub.status.busy": "2020-10-03T11:33:29.873116Z",
     "iopub.status.idle": "2020-10-03T11:33:29.881174Z",
     "shell.execute_reply": "2020-10-03T11:33:29.881794Z"
    },
    "papermill": {
     "duration": 0.052328,
     "end_time": "2020-10-03T11:33:29.881990",
     "exception": false,
     "start_time": "2020-10-03T11:33:29.829662",
     "status": "completed"
    },
    "tags": []
   },
   "outputs": [
    {
     "name": "stdout",
     "output_type": "stream",
     "text": [
      "/kaggle/input/amazon-prime-tv-shows/Prime TV Shows Data set.csv\n"
     ]
    }
   ],
   "source": [
    "# This Python 3 environment comes with many helpful analytics libraries installed\n",
    "# It is defined by the kaggle/python Docker image: https://github.com/kaggle/docker-python\n",
    "# For example, here's several helpful packages to load\n",
    "\n",
    "import numpy as np # linear algebra\n",
    "import pandas as pd # data processing, CSV file I/O (e.g. pd.read_csv)\n",
    "\n",
    "# Input data files are available in the read-only \"../input/\" directory\n",
    "# For example, running this (by clicking run or pressing Shift+Enter) will list all files under the input directory\n",
    "\n",
    "import os\n",
    "for dirname, _, filenames in os.walk('/kaggle/input'):\n",
    "    for filename in filenames:\n",
    "        print(os.path.join(dirname, filename))\n",
    "\n",
    "# You can write up to 5GB to the current directory (/kaggle/working/) that gets preserved as output when you create a version using \"Save & Run All\" \n",
    "# You can also write temporary files to /kaggle/temp/, but they won't be saved outside of the current session"
   ]
  },
  {
   "cell_type": "code",
   "execution_count": 2,
   "metadata": {
    "execution": {
     "iopub.execute_input": "2020-10-03T11:33:29.960792Z",
     "iopub.status.busy": "2020-10-03T11:33:29.960023Z",
     "iopub.status.idle": "2020-10-03T11:33:31.029857Z",
     "shell.execute_reply": "2020-10-03T11:33:31.029197Z"
    },
    "papermill": {
     "duration": 1.111042,
     "end_time": "2020-10-03T11:33:31.030000",
     "exception": false,
     "start_time": "2020-10-03T11:33:29.918958",
     "status": "completed"
    },
    "tags": []
   },
   "outputs": [],
   "source": [
    "import matplotlib.pyplot as plt\n",
    "import missingno as msno\n",
    "import seaborn as sns"
   ]
  },
  {
   "cell_type": "code",
   "execution_count": 3,
   "metadata": {
    "_cell_guid": "79c7e3d0-c299-4dcb-8224-4455121ee9b0",
    "_uuid": "d629ff2d2480ee46fbb7e2d37f6b5fab8052498a",
    "execution": {
     "iopub.execute_input": "2020-10-03T11:33:31.111055Z",
     "iopub.status.busy": "2020-10-03T11:33:31.110197Z",
     "iopub.status.idle": "2020-10-03T11:33:31.125128Z",
     "shell.execute_reply": "2020-10-03T11:33:31.124290Z"
    },
    "papermill": {
     "duration": 0.057225,
     "end_time": "2020-10-03T11:33:31.125263",
     "exception": false,
     "start_time": "2020-10-03T11:33:31.068038",
     "status": "completed"
    },
    "tags": []
   },
   "outputs": [],
   "source": [
    "prime_df = pd.read_csv('../input/amazon-prime-tv-shows/Prime TV Shows Data set.csv', encoding = 'iso-8859-1')"
   ]
  },
  {
   "cell_type": "code",
   "execution_count": 4,
   "metadata": {
    "execution": {
     "iopub.execute_input": "2020-10-03T11:33:31.224255Z",
     "iopub.status.busy": "2020-10-03T11:33:31.208134Z",
     "iopub.status.idle": "2020-10-03T11:33:31.237312Z",
     "shell.execute_reply": "2020-10-03T11:33:31.236707Z"
    },
    "papermill": {
     "duration": 0.075205,
     "end_time": "2020-10-03T11:33:31.237429",
     "exception": false,
     "start_time": "2020-10-03T11:33:31.162224",
     "status": "completed"
    },
    "tags": []
   },
   "outputs": [
    {
     "data": {
      "text/html": [
       "<div>\n",
       "<style scoped>\n",
       "    .dataframe tbody tr th:only-of-type {\n",
       "        vertical-align: middle;\n",
       "    }\n",
       "\n",
       "    .dataframe tbody tr th {\n",
       "        vertical-align: top;\n",
       "    }\n",
       "\n",
       "    .dataframe thead th {\n",
       "        text-align: right;\n",
       "    }\n",
       "</style>\n",
       "<table border=\"1\" class=\"dataframe\">\n",
       "  <thead>\n",
       "    <tr style=\"text-align: right;\">\n",
       "      <th></th>\n",
       "      <th>S.no.</th>\n",
       "      <th>Name of the show</th>\n",
       "      <th>Year of release</th>\n",
       "      <th>No of seasons available</th>\n",
       "      <th>Language</th>\n",
       "      <th>Genre</th>\n",
       "      <th>IMDb rating</th>\n",
       "      <th>Age of viewers</th>\n",
       "    </tr>\n",
       "  </thead>\n",
       "  <tbody>\n",
       "    <tr>\n",
       "      <th>0</th>\n",
       "      <td>1</td>\n",
       "      <td>Pataal Lok</td>\n",
       "      <td>2020</td>\n",
       "      <td>1</td>\n",
       "      <td>Hindi</td>\n",
       "      <td>Drama</td>\n",
       "      <td>7.5</td>\n",
       "      <td>18+</td>\n",
       "    </tr>\n",
       "    <tr>\n",
       "      <th>1</th>\n",
       "      <td>2</td>\n",
       "      <td>Upload</td>\n",
       "      <td>2020</td>\n",
       "      <td>1</td>\n",
       "      <td>English</td>\n",
       "      <td>Sci-fi comedy</td>\n",
       "      <td>8.1</td>\n",
       "      <td>16+</td>\n",
       "    </tr>\n",
       "    <tr>\n",
       "      <th>2</th>\n",
       "      <td>3</td>\n",
       "      <td>The Marvelous Mrs. Maisel</td>\n",
       "      <td>2017</td>\n",
       "      <td>3</td>\n",
       "      <td>English</td>\n",
       "      <td>Drama, Comedy</td>\n",
       "      <td>8.7</td>\n",
       "      <td>16+</td>\n",
       "    </tr>\n",
       "    <tr>\n",
       "      <th>3</th>\n",
       "      <td>4</td>\n",
       "      <td>Four More Shots Please</td>\n",
       "      <td>2019</td>\n",
       "      <td>2</td>\n",
       "      <td>Hindi</td>\n",
       "      <td>Drama, Comedy</td>\n",
       "      <td>5.3</td>\n",
       "      <td>18+</td>\n",
       "    </tr>\n",
       "    <tr>\n",
       "      <th>4</th>\n",
       "      <td>5</td>\n",
       "      <td>Fleabag</td>\n",
       "      <td>2016</td>\n",
       "      <td>2</td>\n",
       "      <td>English</td>\n",
       "      <td>Comedy</td>\n",
       "      <td>8.7</td>\n",
       "      <td>18+</td>\n",
       "    </tr>\n",
       "    <tr>\n",
       "      <th>...</th>\n",
       "      <td>...</td>\n",
       "      <td>...</td>\n",
       "      <td>...</td>\n",
       "      <td>...</td>\n",
       "      <td>...</td>\n",
       "      <td>...</td>\n",
       "      <td>...</td>\n",
       "      <td>...</td>\n",
       "    </tr>\n",
       "    <tr>\n",
       "      <th>498</th>\n",
       "      <td>499</td>\n",
       "      <td>The Bellflower Bunnies</td>\n",
       "      <td>2002</td>\n",
       "      <td>1</td>\n",
       "      <td>English</td>\n",
       "      <td>Kids</td>\n",
       "      <td>NaN</td>\n",
       "      <td>All</td>\n",
       "    </tr>\n",
       "    <tr>\n",
       "      <th>499</th>\n",
       "      <td>500</td>\n",
       "      <td>Truck Games</td>\n",
       "      <td>2020</td>\n",
       "      <td>1</td>\n",
       "      <td>English</td>\n",
       "      <td>Kids</td>\n",
       "      <td>NaN</td>\n",
       "      <td>All</td>\n",
       "    </tr>\n",
       "    <tr>\n",
       "      <th>500</th>\n",
       "      <td>501</td>\n",
       "      <td>AnimaCars- Truck and Animal's Adventures</td>\n",
       "      <td>2019</td>\n",
       "      <td>1</td>\n",
       "      <td>English</td>\n",
       "      <td>Kids</td>\n",
       "      <td>NaN</td>\n",
       "      <td>All</td>\n",
       "    </tr>\n",
       "    <tr>\n",
       "      <th>501</th>\n",
       "      <td>502</td>\n",
       "      <td>Superzoo</td>\n",
       "      <td>2020</td>\n",
       "      <td>1</td>\n",
       "      <td>English</td>\n",
       "      <td>Kids</td>\n",
       "      <td>NaN</td>\n",
       "      <td>All</td>\n",
       "    </tr>\n",
       "    <tr>\n",
       "      <th>502</th>\n",
       "      <td>503</td>\n",
       "      <td>Dubby Dubs</td>\n",
       "      <td>2017</td>\n",
       "      <td>2</td>\n",
       "      <td>English</td>\n",
       "      <td>Kids</td>\n",
       "      <td>NaN</td>\n",
       "      <td>7+</td>\n",
       "    </tr>\n",
       "  </tbody>\n",
       "</table>\n",
       "<p>503 rows × 8 columns</p>\n",
       "</div>"
      ],
      "text/plain": [
       "     S.no.                          Name of the show  Year of release  \\\n",
       "0        1                                Pataal Lok             2020   \n",
       "1        2                                    Upload             2020   \n",
       "2        3                 The Marvelous Mrs. Maisel             2017   \n",
       "3        4                    Four More Shots Please             2019   \n",
       "4        5                                   Fleabag             2016   \n",
       "..     ...                                       ...              ...   \n",
       "498    499                    The Bellflower Bunnies             2002   \n",
       "499    500                               Truck Games             2020   \n",
       "500    501  AnimaCars- Truck and Animal's Adventures             2019   \n",
       "501    502                                  Superzoo             2020   \n",
       "502    503                                Dubby Dubs             2017   \n",
       "\n",
       "     No of seasons available Language          Genre  IMDb rating  \\\n",
       "0                          1    Hindi          Drama          7.5   \n",
       "1                          1  English  Sci-fi comedy          8.1   \n",
       "2                          3  English  Drama, Comedy          8.7   \n",
       "3                          2    Hindi  Drama, Comedy          5.3   \n",
       "4                          2  English         Comedy          8.7   \n",
       "..                       ...      ...            ...          ...   \n",
       "498                        1  English           Kids          NaN   \n",
       "499                        1  English           Kids          NaN   \n",
       "500                        1  English           Kids          NaN   \n",
       "501                        1  English           Kids          NaN   \n",
       "502                        2  English           Kids          NaN   \n",
       "\n",
       "    Age of viewers  \n",
       "0              18+  \n",
       "1              16+  \n",
       "2              16+  \n",
       "3              18+  \n",
       "4              18+  \n",
       "..             ...  \n",
       "498            All  \n",
       "499            All  \n",
       "500            All  \n",
       "501            All  \n",
       "502             7+  \n",
       "\n",
       "[503 rows x 8 columns]"
      ]
     },
     "execution_count": 4,
     "metadata": {},
     "output_type": "execute_result"
    }
   ],
   "source": [
    "prime_df"
   ]
  },
  {
   "cell_type": "markdown",
   "metadata": {
    "papermill": {
     "duration": 0.037364,
     "end_time": "2020-10-03T11:33:31.312522",
     "exception": false,
     "start_time": "2020-10-03T11:33:31.275158",
     "status": "completed"
    },
    "tags": []
   },
   "source": [
    "# Getting an overview of the dataset"
   ]
  },
  {
   "cell_type": "code",
   "execution_count": 5,
   "metadata": {
    "execution": {
     "iopub.execute_input": "2020-10-03T11:33:31.408963Z",
     "iopub.status.busy": "2020-10-03T11:33:31.394257Z",
     "iopub.status.idle": "2020-10-03T11:33:31.412999Z",
     "shell.execute_reply": "2020-10-03T11:33:31.412382Z"
    },
    "papermill": {
     "duration": 0.06291,
     "end_time": "2020-10-03T11:33:31.413135",
     "exception": false,
     "start_time": "2020-10-03T11:33:31.350225",
     "status": "completed"
    },
    "tags": []
   },
   "outputs": [
    {
     "name": "stdout",
     "output_type": "stream",
     "text": [
      "<class 'pandas.core.frame.DataFrame'>\n",
      "RangeIndex: 503 entries, 0 to 502\n",
      "Data columns (total 8 columns):\n",
      " #   Column                   Non-Null Count  Dtype  \n",
      "---  ------                   --------------  -----  \n",
      " 0   S.no.                    503 non-null    int64  \n",
      " 1   Name of the show         503 non-null    object \n",
      " 2   Year of release          503 non-null    int64  \n",
      " 3   No of seasons available  503 non-null    int64  \n",
      " 4   Language                 503 non-null    object \n",
      " 5   Genre                    503 non-null    object \n",
      " 6   IMDb rating              220 non-null    float64\n",
      " 7   Age of viewers           503 non-null    object \n",
      "dtypes: float64(1), int64(3), object(4)\n",
      "memory usage: 31.6+ KB\n"
     ]
    }
   ],
   "source": [
    "prime_df.info()"
   ]
  },
  {
   "cell_type": "markdown",
   "metadata": {
    "papermill": {
     "duration": 0.037761,
     "end_time": "2020-10-03T11:33:31.489214",
     "exception": false,
     "start_time": "2020-10-03T11:33:31.451453",
     "status": "completed"
    },
    "tags": []
   },
   "source": [
    "We can see there are 503 values for each column except for IMDb rating which shows missing values. Let's check out the percentage of missing values and get insights about why these values are missing."
   ]
  },
  {
   "cell_type": "code",
   "execution_count": 6,
   "metadata": {
    "execution": {
     "iopub.execute_input": "2020-10-03T11:33:31.574555Z",
     "iopub.status.busy": "2020-10-03T11:33:31.573701Z",
     "iopub.status.idle": "2020-10-03T11:33:31.577425Z",
     "shell.execute_reply": "2020-10-03T11:33:31.578042Z"
    },
    "papermill": {
     "duration": 0.050742,
     "end_time": "2020-10-03T11:33:31.578206",
     "exception": false,
     "start_time": "2020-10-03T11:33:31.527464",
     "status": "completed"
    },
    "tags": []
   },
   "outputs": [
    {
     "data": {
      "text/plain": [
       "S.no.                        0\n",
       "Name of the show             0\n",
       "Year of release              0\n",
       "No of seasons available      0\n",
       "Language                     0\n",
       "Genre                        0\n",
       "IMDb rating                283\n",
       "Age of viewers               0\n",
       "dtype: int64"
      ]
     },
     "execution_count": 6,
     "metadata": {},
     "output_type": "execute_result"
    }
   ],
   "source": [
    "# looking for null values\n",
    "prime_df.isnull().sum()"
   ]
  },
  {
   "cell_type": "code",
   "execution_count": 7,
   "metadata": {
    "execution": {
     "iopub.execute_input": "2020-10-03T11:33:31.663300Z",
     "iopub.status.busy": "2020-10-03T11:33:31.662400Z",
     "iopub.status.idle": "2020-10-03T11:33:32.132318Z",
     "shell.execute_reply": "2020-10-03T11:33:32.132935Z"
    },
    "papermill": {
     "duration": 0.515902,
     "end_time": "2020-10-03T11:33:32.133091",
     "exception": false,
     "start_time": "2020-10-03T11:33:31.617189",
     "status": "completed"
    },
    "tags": []
   },
   "outputs": [
    {
     "data": {
      "image/png": "[encoded data removed]",
      "text/plain": [
       "<Figure size 1800x720 with 2 Axes>"
      ]
     },
     "metadata": {
      "needs_background": "light"
     },
     "output_type": "display_data"
    }
   ],
   "source": [
    "msno.matrix(prime_df);"
   ]
  },
  {
   "cell_type": "code",
   "execution_count": 8,
   "metadata": {
    "execution": {
     "iopub.execute_input": "2020-10-03T11:33:32.223677Z",
     "iopub.status.busy": "2020-10-03T11:33:32.222546Z",
     "iopub.status.idle": "2020-10-03T11:33:32.227062Z",
     "shell.execute_reply": "2020-10-03T11:33:32.226301Z"
    },
    "papermill": {
     "duration": 0.05264,
     "end_time": "2020-10-03T11:33:32.227192",
     "exception": false,
     "start_time": "2020-10-03T11:33:32.174552",
     "status": "completed"
    },
    "tags": []
   },
   "outputs": [
    {
     "data": {
      "text/plain": [
       "56.2624254473161"
      ]
     },
     "execution_count": 8,
     "metadata": {},
     "output_type": "execute_result"
    }
   ],
   "source": [
    "# percentage of missing values in IMDb rating\n",
    "(prime_df['IMDb rating'].isnull().sum()/prime_df.shape[0])*100"
   ]
  },
  {
   "cell_type": "markdown",
   "metadata": {
    "papermill": {
     "duration": 0.041196,
     "end_time": "2020-10-03T11:33:32.309889",
     "exception": false,
     "start_time": "2020-10-03T11:33:32.268693",
     "status": "completed"
    },
    "tags": []
   },
   "source": [
    "Nearly 56% of the values are missing because the users might not consider it necessary to leave a rating each time they watch a show. Maybe the one"
   ]
  },
  {
   "cell_type": "code",
   "execution_count": 9,
   "metadata": {
    "execution": {
     "iopub.execute_input": "2020-10-03T11:33:32.403728Z",
     "iopub.status.busy": "2020-10-03T11:33:32.402873Z",
     "iopub.status.idle": "2020-10-03T11:33:32.406873Z",
     "shell.execute_reply": "2020-10-03T11:33:32.407397Z"
    },
    "papermill": {
     "duration": 0.055663,
     "end_time": "2020-10-03T11:33:32.407570",
     "exception": false,
     "start_time": "2020-10-03T11:33:32.351907",
     "status": "completed"
    },
    "tags": []
   },
   "outputs": [
    {
     "data": {
      "text/plain": [
       "English       422\n",
       "Hindi          39\n",
       "Japanese       13\n",
       "Italiano        8\n",
       "Spanish         6\n",
       "Deutsch         3\n",
       "French          2\n",
       "Nederlands      2\n",
       "Serbian         2\n",
       "Marathi         2\n",
       "Telugu          1\n",
       "Russian         1\n",
       "Suomi           1\n",
       "Hebrew          1\n",
       "Name: Language, dtype: int64"
      ]
     },
     "execution_count": 9,
     "metadata": {},
     "output_type": "execute_result"
    }
   ],
   "source": [
    "prime_df['Language'].value_counts()"
   ]
  },
  {
   "cell_type": "markdown",
   "metadata": {
    "papermill": {
     "duration": 0.042552,
     "end_time": "2020-10-03T11:33:32.492320",
     "exception": false,
     "start_time": "2020-10-03T11:33:32.449768",
     "status": "completed"
    },
    "tags": []
   },
   "source": [
    "Most number of missing values for IMDb rating are for english shows maybe because the maximum number of shows are in english"
   ]
  },
  {
   "cell_type": "code",
   "execution_count": 10,
   "metadata": {
    "execution": {
     "iopub.execute_input": "2020-10-03T11:33:32.583459Z",
     "iopub.status.busy": "2020-10-03T11:33:32.582675Z",
     "iopub.status.idle": "2020-10-03T11:33:32.586056Z",
     "shell.execute_reply": "2020-10-03T11:33:32.585235Z"
    },
    "papermill": {
     "duration": 0.05183,
     "end_time": "2020-10-03T11:33:32.586184",
     "exception": false,
     "start_time": "2020-10-03T11:33:32.534354",
     "status": "completed"
    },
    "tags": []
   },
   "outputs": [],
   "source": [
    "nadf = prime_df[prime_df['IMDb rating'].isnull()]"
   ]
  },
  {
   "cell_type": "code",
   "execution_count": 11,
   "metadata": {
    "execution": {
     "iopub.execute_input": "2020-10-03T11:33:32.682335Z",
     "iopub.status.busy": "2020-10-03T11:33:32.681471Z",
     "iopub.status.idle": "2020-10-03T11:33:32.685574Z",
     "shell.execute_reply": "2020-10-03T11:33:32.686158Z"
    },
    "papermill": {
     "duration": 0.056127,
     "end_time": "2020-10-03T11:33:32.686326",
     "exception": false,
     "start_time": "2020-10-03T11:33:32.630199",
     "status": "completed"
    },
    "tags": []
   },
   "outputs": [
    {
     "data": {
      "text/plain": [
       "English       230\n",
       "Hindi          22\n",
       "Italiano        8\n",
       "Japanese        6\n",
       "Spanish         5\n",
       "French          2\n",
       "Serbian         2\n",
       "Nederlands      2\n",
       "Marathi         2\n",
       "Telugu          1\n",
       "Deutsch         1\n",
       "Russian         1\n",
       "Hebrew          1\n",
       "Name: Language, dtype: int64"
      ]
     },
     "execution_count": 11,
     "metadata": {},
     "output_type": "execute_result"
    }
   ],
   "source": [
    "# the distribution of na's per language\n",
    "nadf['Language'].value_counts()"
   ]
  },
  {
   "cell_type": "code",
   "execution_count": 12,
   "metadata": {
    "execution": {
     "iopub.execute_input": "2020-10-03T11:33:32.785292Z",
     "iopub.status.busy": "2020-10-03T11:33:32.784481Z",
     "iopub.status.idle": "2020-10-03T11:33:32.813719Z",
     "shell.execute_reply": "2020-10-03T11:33:32.812915Z"
    },
    "papermill": {
     "duration": 0.084187,
     "end_time": "2020-10-03T11:33:32.813850",
     "exception": false,
     "start_time": "2020-10-03T11:33:32.729663",
     "status": "completed"
    },
    "tags": []
   },
   "outputs": [
    {
     "data": {
      "text/plain": [
       "Deutsch       0.333333\n",
       "English       0.545024\n",
       "French        1.000000\n",
       "Hebrew        1.000000\n",
       "Hindi         0.564103\n",
       "Italiano      1.000000\n",
       "Japanese      0.461538\n",
       "Marathi       1.000000\n",
       "Nederlands    1.000000\n",
       "Russian       1.000000\n",
       "Serbian       1.000000\n",
       "Spanish       0.833333\n",
       "Suomi              NaN\n",
       "Telugu        1.000000\n",
       "Name: Language, dtype: float64"
      ]
     },
     "execution_count": 12,
     "metadata": {},
     "output_type": "execute_result"
    }
   ],
   "source": [
    "# number of na's per language / number of values per language\n",
    "nadf['Language'].value_counts() / prime_df['Language'].value_counts()"
   ]
  },
  {
   "cell_type": "code",
   "execution_count": 13,
   "metadata": {
    "execution": {
     "iopub.execute_input": "2020-10-03T11:33:32.910457Z",
     "iopub.status.busy": "2020-10-03T11:33:32.909297Z",
     "iopub.status.idle": "2020-10-03T11:33:32.913927Z",
     "shell.execute_reply": "2020-10-03T11:33:32.913284Z"
    },
    "papermill": {
     "duration": 0.055765,
     "end_time": "2020-10-03T11:33:32.914056",
     "exception": false,
     "start_time": "2020-10-03T11:33:32.858291",
     "status": "completed"
    },
    "tags": []
   },
   "outputs": [
    {
     "data": {
      "text/plain": [
       "S.no.                        int64\n",
       "Name of the show            object\n",
       "Year of release              int64\n",
       "No of seasons available      int64\n",
       "Language                    object\n",
       "Genre                       object\n",
       "IMDb rating                float64\n",
       "Age of viewers              object\n",
       "dtype: object"
      ]
     },
     "execution_count": 13,
     "metadata": {},
     "output_type": "execute_result"
    }
   ],
   "source": [
    "# looking at the data types\n",
    "prime_df.dtypes"
   ]
  },
  {
   "cell_type": "code",
   "execution_count": 14,
   "metadata": {
    "execution": {
     "iopub.execute_input": "2020-10-03T11:33:33.022996Z",
     "iopub.status.busy": "2020-10-03T11:33:33.021882Z",
     "iopub.status.idle": "2020-10-03T11:33:33.027165Z",
     "shell.execute_reply": "2020-10-03T11:33:33.026495Z"
    },
    "papermill": {
     "duration": 0.067533,
     "end_time": "2020-10-03T11:33:33.027300",
     "exception": false,
     "start_time": "2020-10-03T11:33:32.959767",
     "status": "completed"
    },
    "tags": []
   },
   "outputs": [
    {
     "data": {
      "text/html": [
       "<div>\n",
       "<style scoped>\n",
       "    .dataframe tbody tr th:only-of-type {\n",
       "        vertical-align: middle;\n",
       "    }\n",
       "\n",
       "    .dataframe tbody tr th {\n",
       "        vertical-align: top;\n",
       "    }\n",
       "\n",
       "    .dataframe thead th {\n",
       "        text-align: right;\n",
       "    }\n",
       "</style>\n",
       "<table border=\"1\" class=\"dataframe\">\n",
       "  <thead>\n",
       "    <tr style=\"text-align: right;\">\n",
       "      <th></th>\n",
       "      <th>S.no.</th>\n",
       "      <th>Name of the show</th>\n",
       "      <th>Year of release</th>\n",
       "      <th>No of seasons available</th>\n",
       "      <th>Language</th>\n",
       "      <th>Genre</th>\n",
       "      <th>IMDb rating</th>\n",
       "      <th>Age of viewers</th>\n",
       "    </tr>\n",
       "  </thead>\n",
       "  <tbody>\n",
       "    <tr>\n",
       "      <th>0</th>\n",
       "      <td>1</td>\n",
       "      <td>Pataal Lok</td>\n",
       "      <td>2020</td>\n",
       "      <td>1</td>\n",
       "      <td>Hindi</td>\n",
       "      <td>Drama</td>\n",
       "      <td>7.5</td>\n",
       "      <td>18+</td>\n",
       "    </tr>\n",
       "    <tr>\n",
       "      <th>1</th>\n",
       "      <td>2</td>\n",
       "      <td>Upload</td>\n",
       "      <td>2020</td>\n",
       "      <td>1</td>\n",
       "      <td>English</td>\n",
       "      <td>Sci-fi comedy</td>\n",
       "      <td>8.1</td>\n",
       "      <td>16+</td>\n",
       "    </tr>\n",
       "    <tr>\n",
       "      <th>2</th>\n",
       "      <td>3</td>\n",
       "      <td>The Marvelous Mrs. Maisel</td>\n",
       "      <td>2017</td>\n",
       "      <td>3</td>\n",
       "      <td>English</td>\n",
       "      <td>Drama, Comedy</td>\n",
       "      <td>8.7</td>\n",
       "      <td>16+</td>\n",
       "    </tr>\n",
       "    <tr>\n",
       "      <th>3</th>\n",
       "      <td>4</td>\n",
       "      <td>Four More Shots Please</td>\n",
       "      <td>2019</td>\n",
       "      <td>2</td>\n",
       "      <td>Hindi</td>\n",
       "      <td>Drama, Comedy</td>\n",
       "      <td>5.3</td>\n",
       "      <td>18+</td>\n",
       "    </tr>\n",
       "    <tr>\n",
       "      <th>4</th>\n",
       "      <td>5</td>\n",
       "      <td>Fleabag</td>\n",
       "      <td>2016</td>\n",
       "      <td>2</td>\n",
       "      <td>English</td>\n",
       "      <td>Comedy</td>\n",
       "      <td>8.7</td>\n",
       "      <td>18+</td>\n",
       "    </tr>\n",
       "    <tr>\n",
       "      <th>5</th>\n",
       "      <td>6</td>\n",
       "      <td>Made in Heaven</td>\n",
       "      <td>2019</td>\n",
       "      <td>1</td>\n",
       "      <td>Hindi</td>\n",
       "      <td>Drama</td>\n",
       "      <td>8.3</td>\n",
       "      <td>18+</td>\n",
       "    </tr>\n",
       "    <tr>\n",
       "      <th>6</th>\n",
       "      <td>7</td>\n",
       "      <td>Homecoming</td>\n",
       "      <td>2018</td>\n",
       "      <td>2</td>\n",
       "      <td>English</td>\n",
       "      <td>Drama</td>\n",
       "      <td>7.5</td>\n",
       "      <td>16+</td>\n",
       "    </tr>\n",
       "    <tr>\n",
       "      <th>7</th>\n",
       "      <td>8</td>\n",
       "      <td>Mirzapur</td>\n",
       "      <td>2018</td>\n",
       "      <td>1</td>\n",
       "      <td>Hindi</td>\n",
       "      <td>Drama</td>\n",
       "      <td>8.5</td>\n",
       "      <td>18+</td>\n",
       "    </tr>\n",
       "    <tr>\n",
       "      <th>8</th>\n",
       "      <td>9</td>\n",
       "      <td>The Family Man</td>\n",
       "      <td>2019</td>\n",
       "      <td>1</td>\n",
       "      <td>Hindi</td>\n",
       "      <td>Drama, Action</td>\n",
       "      <td>8.6</td>\n",
       "      <td>18+</td>\n",
       "    </tr>\n",
       "    <tr>\n",
       "      <th>9</th>\n",
       "      <td>10</td>\n",
       "      <td>Modern Love</td>\n",
       "      <td>2019</td>\n",
       "      <td>1</td>\n",
       "      <td>English</td>\n",
       "      <td>Drama, Romance, Comedy</td>\n",
       "      <td>8.0</td>\n",
       "      <td>16+</td>\n",
       "    </tr>\n",
       "  </tbody>\n",
       "</table>\n",
       "</div>"
      ],
      "text/plain": [
       "   S.no.           Name of the show  Year of release  No of seasons available  \\\n",
       "0      1                 Pataal Lok             2020                        1   \n",
       "1      2                     Upload             2020                        1   \n",
       "2      3  The Marvelous Mrs. Maisel             2017                        3   \n",
       "3      4     Four More Shots Please             2019                        2   \n",
       "4      5                    Fleabag             2016                        2   \n",
       "5      6             Made in Heaven             2019                        1   \n",
       "6      7                 Homecoming             2018                        2   \n",
       "7      8                   Mirzapur             2018                        1   \n",
       "8      9             The Family Man             2019                        1   \n",
       "9     10                Modern Love             2019                        1   \n",
       "\n",
       "  Language                   Genre  IMDb rating Age of viewers  \n",
       "0    Hindi                   Drama          7.5            18+  \n",
       "1  English           Sci-fi comedy          8.1            16+  \n",
       "2  English           Drama, Comedy          8.7            16+  \n",
       "3    Hindi           Drama, Comedy          5.3            18+  \n",
       "4  English                  Comedy          8.7            18+  \n",
       "5    Hindi                   Drama          8.3            18+  \n",
       "6  English                   Drama          7.5            16+  \n",
       "7    Hindi                   Drama          8.5            18+  \n",
       "8    Hindi           Drama, Action          8.6            18+  \n",
       "9  English  Drama, Romance, Comedy          8.0            16+  "
      ]
     },
     "execution_count": 14,
     "metadata": {},
     "output_type": "execute_result"
    }
   ],
   "source": [
    "# looking at the first 10 entries of the dataset\n",
    "prime_df.head(10)"
   ]
  },
  {
   "cell_type": "markdown",
   "metadata": {
    "papermill": {
     "duration": 0.061113,
     "end_time": "2020-10-03T11:33:33.139129",
     "exception": false,
     "start_time": "2020-10-03T11:33:33.078016",
     "status": "completed"
    },
    "tags": []
   },
   "source": [
    "# Data cleaning and simplification"
   ]
  },
  {
   "cell_type": "markdown",
   "metadata": {
    "papermill": {
     "duration": 0.054657,
     "end_time": "2020-10-03T11:33:33.255291",
     "exception": false,
     "start_time": "2020-10-03T11:33:33.200634",
     "status": "completed"
    },
    "tags": []
   },
   "source": [
    "* The S.no. column is not required so let's drop it"
   ]
  },
  {
   "cell_type": "code",
   "execution_count": 15,
   "metadata": {
    "execution": {
     "iopub.execute_input": "2020-10-03T11:33:33.371098Z",
     "iopub.status.busy": "2020-10-03T11:33:33.369828Z",
     "iopub.status.idle": "2020-10-03T11:33:33.374780Z",
     "shell.execute_reply": "2020-10-03T11:33:33.374088Z"
    },
    "papermill": {
     "duration": 0.073333,
     "end_time": "2020-10-03T11:33:33.374913",
     "exception": false,
     "start_time": "2020-10-03T11:33:33.301580",
     "status": "completed"
    },
    "tags": []
   },
   "outputs": [
    {
     "data": {
      "text/html": [
       "<div>\n",
       "<style scoped>\n",
       "    .dataframe tbody tr th:only-of-type {\n",
       "        vertical-align: middle;\n",
       "    }\n",
       "\n",
       "    .dataframe tbody tr th {\n",
       "        vertical-align: top;\n",
       "    }\n",
       "\n",
       "    .dataframe thead th {\n",
       "        text-align: right;\n",
       "    }\n",
       "</style>\n",
       "<table border=\"1\" class=\"dataframe\">\n",
       "  <thead>\n",
       "    <tr style=\"text-align: right;\">\n",
       "      <th></th>\n",
       "      <th>Name of the show</th>\n",
       "      <th>Year of release</th>\n",
       "      <th>No of seasons available</th>\n",
       "      <th>Language</th>\n",
       "      <th>Genre</th>\n",
       "      <th>IMDb rating</th>\n",
       "      <th>Age of viewers</th>\n",
       "    </tr>\n",
       "  </thead>\n",
       "  <tbody>\n",
       "    <tr>\n",
       "      <th>0</th>\n",
       "      <td>Pataal Lok</td>\n",
       "      <td>2020</td>\n",
       "      <td>1</td>\n",
       "      <td>Hindi</td>\n",
       "      <td>Drama</td>\n",
       "      <td>7.5</td>\n",
       "      <td>18+</td>\n",
       "    </tr>\n",
       "    <tr>\n",
       "      <th>1</th>\n",
       "      <td>Upload</td>\n",
       "      <td>2020</td>\n",
       "      <td>1</td>\n",
       "      <td>English</td>\n",
       "      <td>Sci-fi comedy</td>\n",
       "      <td>8.1</td>\n",
       "      <td>16+</td>\n",
       "    </tr>\n",
       "    <tr>\n",
       "      <th>2</th>\n",
       "      <td>The Marvelous Mrs. Maisel</td>\n",
       "      <td>2017</td>\n",
       "      <td>3</td>\n",
       "      <td>English</td>\n",
       "      <td>Drama, Comedy</td>\n",
       "      <td>8.7</td>\n",
       "      <td>16+</td>\n",
       "    </tr>\n",
       "    <tr>\n",
       "      <th>3</th>\n",
       "      <td>Four More Shots Please</td>\n",
       "      <td>2019</td>\n",
       "      <td>2</td>\n",
       "      <td>Hindi</td>\n",
       "      <td>Drama, Comedy</td>\n",
       "      <td>5.3</td>\n",
       "      <td>18+</td>\n",
       "    </tr>\n",
       "    <tr>\n",
       "      <th>4</th>\n",
       "      <td>Fleabag</td>\n",
       "      <td>2016</td>\n",
       "      <td>2</td>\n",
       "      <td>English</td>\n",
       "      <td>Comedy</td>\n",
       "      <td>8.7</td>\n",
       "      <td>18+</td>\n",
       "    </tr>\n",
       "    <tr>\n",
       "      <th>...</th>\n",
       "      <td>...</td>\n",
       "      <td>...</td>\n",
       "      <td>...</td>\n",
       "      <td>...</td>\n",
       "      <td>...</td>\n",
       "      <td>...</td>\n",
       "      <td>...</td>\n",
       "    </tr>\n",
       "    <tr>\n",
       "      <th>498</th>\n",
       "      <td>The Bellflower Bunnies</td>\n",
       "      <td>2002</td>\n",
       "      <td>1</td>\n",
       "      <td>English</td>\n",
       "      <td>Kids</td>\n",
       "      <td>NaN</td>\n",
       "      <td>All</td>\n",
       "    </tr>\n",
       "    <tr>\n",
       "      <th>499</th>\n",
       "      <td>Truck Games</td>\n",
       "      <td>2020</td>\n",
       "      <td>1</td>\n",
       "      <td>English</td>\n",
       "      <td>Kids</td>\n",
       "      <td>NaN</td>\n",
       "      <td>All</td>\n",
       "    </tr>\n",
       "    <tr>\n",
       "      <th>500</th>\n",
       "      <td>AnimaCars- Truck and Animal's Adventures</td>\n",
       "      <td>2019</td>\n",
       "      <td>1</td>\n",
       "      <td>English</td>\n",
       "      <td>Kids</td>\n",
       "      <td>NaN</td>\n",
       "      <td>All</td>\n",
       "    </tr>\n",
       "    <tr>\n",
       "      <th>501</th>\n",
       "      <td>Superzoo</td>\n",
       "      <td>2020</td>\n",
       "      <td>1</td>\n",
       "      <td>English</td>\n",
       "      <td>Kids</td>\n",
       "      <td>NaN</td>\n",
       "      <td>All</td>\n",
       "    </tr>\n",
       "    <tr>\n",
       "      <th>502</th>\n",
       "      <td>Dubby Dubs</td>\n",
       "      <td>2017</td>\n",
       "      <td>2</td>\n",
       "      <td>English</td>\n",
       "      <td>Kids</td>\n",
       "      <td>NaN</td>\n",
       "      <td>7+</td>\n",
       "    </tr>\n",
       "  </tbody>\n",
       "</table>\n",
       "<p>503 rows × 7 columns</p>\n",
       "</div>"
      ],
      "text/plain": [
       "                             Name of the show  Year of release  \\\n",
       "0                                  Pataal Lok             2020   \n",
       "1                                      Upload             2020   \n",
       "2                   The Marvelous Mrs. Maisel             2017   \n",
       "3                      Four More Shots Please             2019   \n",
       "4                                     Fleabag             2016   \n",
       "..                                        ...              ...   \n",
       "498                    The Bellflower Bunnies             2002   \n",
       "499                               Truck Games             2020   \n",
       "500  AnimaCars- Truck and Animal's Adventures             2019   \n",
       "501                                  Superzoo             2020   \n",
       "502                                Dubby Dubs             2017   \n",
       "\n",
       "     No of seasons available Language          Genre  IMDb rating  \\\n",
       "0                          1    Hindi          Drama          7.5   \n",
       "1                          1  English  Sci-fi comedy          8.1   \n",
       "2                          3  English  Drama, Comedy          8.7   \n",
       "3                          2    Hindi  Drama, Comedy          5.3   \n",
       "4                          2  English         Comedy          8.7   \n",
       "..                       ...      ...            ...          ...   \n",
       "498                        1  English           Kids          NaN   \n",
       "499                        1  English           Kids          NaN   \n",
       "500                        1  English           Kids          NaN   \n",
       "501                        1  English           Kids          NaN   \n",
       "502                        2  English           Kids          NaN   \n",
       "\n",
       "    Age of viewers  \n",
       "0              18+  \n",
       "1              16+  \n",
       "2              16+  \n",
       "3              18+  \n",
       "4              18+  \n",
       "..             ...  \n",
       "498            All  \n",
       "499            All  \n",
       "500            All  \n",
       "501            All  \n",
       "502             7+  \n",
       "\n",
       "[503 rows x 7 columns]"
      ]
     },
     "execution_count": 15,
     "metadata": {},
     "output_type": "execute_result"
    }
   ],
   "source": [
    "# drop S.no. column\n",
    "prime_df.drop(['S.no.'],axis = 1, inplace = True)\n",
    "prime_df"
   ]
  },
  {
   "cell_type": "markdown",
   "metadata": {
    "papermill": {
     "duration": 0.046319,
     "end_time": "2020-10-03T11:33:33.467348",
     "exception": false,
     "start_time": "2020-10-03T11:33:33.421029",
     "status": "completed"
    },
    "tags": []
   },
   "source": [
    "# Data Analysis"
   ]
  },
  {
   "cell_type": "code",
   "execution_count": 16,
   "metadata": {
    "execution": {
     "iopub.execute_input": "2020-10-03T11:33:33.566629Z",
     "iopub.status.busy": "2020-10-03T11:33:33.565500Z",
     "iopub.status.idle": "2020-10-03T11:33:33.568961Z",
     "shell.execute_reply": "2020-10-03T11:33:33.568214Z"
    },
    "papermill": {
     "duration": 0.055622,
     "end_time": "2020-10-03T11:33:33.569086",
     "exception": false,
     "start_time": "2020-10-03T11:33:33.513464",
     "status": "completed"
    },
    "tags": []
   },
   "outputs": [],
   "source": [
    "sns.set_style('whitegrid')"
   ]
  },
  {
   "cell_type": "code",
   "execution_count": 17,
   "metadata": {
    "execution": {
     "iopub.execute_input": "2020-10-03T11:33:33.716870Z",
     "iopub.status.busy": "2020-10-03T11:33:33.692465Z",
     "iopub.status.idle": "2020-10-03T11:33:34.807029Z",
     "shell.execute_reply": "2020-10-03T11:33:34.806367Z"
    },
    "papermill": {
     "duration": 1.191086,
     "end_time": "2020-10-03T11:33:34.807169",
     "exception": false,
     "start_time": "2020-10-03T11:33:33.616083",
     "status": "completed"
    },
    "tags": []
   },
   "outputs": [
    {
     "data": {
      "image/png": "[encoded data removed]",
      "text/plain": [
       "<Figure size 1152x504 with 1 Axes>"
      ]
     },
     "metadata": {},
     "output_type": "display_data"
    }
   ],
   "source": [
    "#plotting the ratings by year of release\n",
    "plt.figure(figsize = (16,7))\n",
    "sns.barplot(x = 'Year of release', y = 'IMDb rating', data = prime_df.dropna(axis = 0, subset = ['IMDb rating']));"
   ]
  },
  {
   "cell_type": "markdown",
   "metadata": {
    "papermill": {
     "duration": 0.047693,
     "end_time": "2020-10-03T11:33:34.902982",
     "exception": false,
     "start_time": "2020-10-03T11:33:34.855289",
     "status": "completed"
    },
    "tags": []
   },
   "source": [
    "The ratings for shows over the years vary slightly in their values and do not follow any particular trend"
   ]
  },
  {
   "cell_type": "code",
   "execution_count": 18,
   "metadata": {
    "execution": {
     "iopub.execute_input": "2020-10-03T11:33:35.026013Z",
     "iopub.status.busy": "2020-10-03T11:33:35.020800Z",
     "iopub.status.idle": "2020-10-03T11:33:35.644040Z",
     "shell.execute_reply": "2020-10-03T11:33:35.644656Z"
    },
    "papermill": {
     "duration": 0.694876,
     "end_time": "2020-10-03T11:33:35.644814",
     "exception": false,
     "start_time": "2020-10-03T11:33:34.949938",
     "status": "completed"
    },
    "tags": []
   },
   "outputs": [
    {
     "data": {
      "image/png": "[encoded data removed]",
      "text/plain": [
       "<Figure size 1152x504 with 1 Axes>"
      ]
     },
     "metadata": {},
     "output_type": "display_data"
    }
   ],
   "source": [
    "# plotting number of shows per year\n",
    "plt.figure(figsize = (16,7))\n",
    "sns.countplot(y = 'Year of release', data = prime_df);"
   ]
  },
  {
   "cell_type": "markdown",
   "metadata": {
    "papermill": {
     "duration": 0.048657,
     "end_time": "2020-10-03T11:33:35.742516",
     "exception": false,
     "start_time": "2020-10-03T11:33:35.693859",
     "status": "completed"
    },
    "tags": []
   },
   "source": [
    "The ratings have not changed much over the years while the number of shows offered on Amzon Prime have increased at a fast rate. The number of shows before the year 2010 are below 10. The number of shows have increased by 7.5 times by the year 2018 indicating that more shows have been released online. Although there seems to be a decrease after 2018. The data for 2020 cannot be considered for the analysis as it does not take all the months into account ."
   ]
  },
  {
   "cell_type": "code",
   "execution_count": 19,
   "metadata": {
    "execution": {
     "iopub.execute_input": "2020-10-03T11:33:35.847856Z",
     "iopub.status.busy": "2020-10-03T11:33:35.846749Z",
     "iopub.status.idle": "2020-10-03T11:33:36.284068Z",
     "shell.execute_reply": "2020-10-03T11:33:36.283338Z"
    },
    "papermill": {
     "duration": 0.493191,
     "end_time": "2020-10-03T11:33:36.284246",
     "exception": false,
     "start_time": "2020-10-03T11:33:35.791055",
     "status": "completed"
    },
    "tags": []
   },
   "outputs": [
    {
     "data": {
      "image/png": "[encoded data removed]",
      "text/plain": [
       "<Figure size 864x432 with 1 Axes>"
      ]
     },
     "metadata": {},
     "output_type": "display_data"
    }
   ],
   "source": [
    "# plotting the shows by number of seasons\n",
    "plt.figure(figsize = (12,6))\n",
    "sns.countplot(y = 'No of seasons available', data = prime_df, palette=\"Blues_d\");"
   ]
  },
  {
   "cell_type": "markdown",
   "metadata": {
    "papermill": {
     "duration": 0.050181,
     "end_time": "2020-10-03T11:33:36.385848",
     "exception": false,
     "start_time": "2020-10-03T11:33:36.335667",
     "status": "completed"
    },
    "tags": []
   },
   "source": [
    "Shows with less number of seasons, mostly 1 or 2 seasons are the highest."
   ]
  },
  {
   "cell_type": "code",
   "execution_count": 20,
   "metadata": {
    "execution": {
     "iopub.execute_input": "2020-10-03T11:33:36.495672Z",
     "iopub.status.busy": "2020-10-03T11:33:36.494896Z",
     "iopub.status.idle": "2020-10-03T11:33:36.863164Z",
     "shell.execute_reply": "2020-10-03T11:33:36.862529Z"
    },
    "papermill": {
     "duration": 0.426387,
     "end_time": "2020-10-03T11:33:36.863295",
     "exception": false,
     "start_time": "2020-10-03T11:33:36.436908",
     "status": "completed"
    },
    "tags": []
   },
   "outputs": [
    {
     "data": {
      "image/png": "[encoded data removed]",
      "text/plain": [
       "<Figure size 864x432 with 1 Axes>"
      ]
     },
     "metadata": {},
     "output_type": "display_data"
    }
   ],
   "source": [
    "# plotting the shows by language\n",
    "plt.figure(figsize = (12,6))\n",
    "sns.countplot(y = 'Language', data = prime_df);"
   ]
  },
  {
   "cell_type": "markdown",
   "metadata": {
    "papermill": {
     "duration": 0.050754,
     "end_time": "2020-10-03T11:33:36.965435",
     "exception": false,
     "start_time": "2020-10-03T11:33:36.914681",
     "status": "completed"
    },
    "tags": []
   },
   "source": [
    "* The highest number of shows are in English followed by Hindi.\n",
    "This might be because of the large taget audience as the most common language used by people is English and then Hindi to a considerable extent. Shows with language particular to a country or region are very less."
   ]
  },
  {
   "cell_type": "code",
   "execution_count": 21,
   "metadata": {
    "execution": {
     "iopub.execute_input": "2020-10-03T11:33:37.077060Z",
     "iopub.status.busy": "2020-10-03T11:33:37.076146Z",
     "iopub.status.idle": "2020-10-03T11:33:37.999868Z",
     "shell.execute_reply": "2020-10-03T11:33:38.000476Z"
    },
    "papermill": {
     "duration": 0.983886,
     "end_time": "2020-10-03T11:33:38.000682",
     "exception": false,
     "start_time": "2020-10-03T11:33:37.016796",
     "status": "completed"
    },
    "tags": []
   },
   "outputs": [
    {
     "data": {
      "image/png": "[encoded data removed]",
      "text/plain": [
       "<Figure size 1296x648 with 1 Axes>"
      ]
     },
     "metadata": {},
     "output_type": "display_data"
    }
   ],
   "source": [
    "# plotting the shows by genres\n",
    "plt.figure(figsize = (18,9))\n",
    "sns.countplot(y = 'Genre', data = prime_df);"
   ]
  },
  {
   "cell_type": "markdown",
   "metadata": {
    "papermill": {
     "duration": 0.055993,
     "end_time": "2020-10-03T11:33:38.112154",
     "exception": false,
     "start_time": "2020-10-03T11:33:38.056161",
     "status": "completed"
    },
    "tags": []
   },
   "source": [
    "It is pretty evident that shows of genre Kids, Drama and Comedy are very high compared to others"
   ]
  },
  {
   "cell_type": "code",
   "execution_count": 22,
   "metadata": {
    "execution": {
     "iopub.execute_input": "2020-10-03T11:33:38.241511Z",
     "iopub.status.busy": "2020-10-03T11:33:38.240714Z",
     "iopub.status.idle": "2020-10-03T11:33:38.417026Z",
     "shell.execute_reply": "2020-10-03T11:33:38.417646Z"
    },
    "papermill": {
     "duration": 0.249488,
     "end_time": "2020-10-03T11:33:38.417811",
     "exception": false,
     "start_time": "2020-10-03T11:33:38.168323",
     "status": "completed"
    },
    "tags": []
   },
   "outputs": [
    {
     "data": {
      "image/png": "[encoded data removed]",
      "text/plain": [
       "<Figure size 432x288 with 1 Axes>"
      ]
     },
     "metadata": {},
     "output_type": "display_data"
    }
   ],
   "source": [
    "# plotting age of viewers\n",
    "sns.countplot(x = 'Age of viewers', data = prime_df);"
   ]
  },
  {
   "cell_type": "markdown",
   "metadata": {
    "papermill": {
     "duration": 0.054434,
     "end_time": "2020-10-03T11:33:38.527619",
     "exception": false,
     "start_time": "2020-10-03T11:33:38.473185",
     "status": "completed"
    },
    "tags": []
   },
   "source": [
    "Most shows offered are for people above 16 years or for all age groups"
   ]
  },
  {
   "cell_type": "markdown",
   "metadata": {
    "papermill": {
     "duration": 0.054343,
     "end_time": "2020-10-03T11:33:38.636829",
     "exception": false,
     "start_time": "2020-10-03T11:33:38.582486",
     "status": "completed"
    },
    "tags": []
   },
   "source": [
    "## Highest rated shows on Amazon Prime"
   ]
  },
  {
   "cell_type": "code",
   "execution_count": 23,
   "metadata": {
    "execution": {
     "iopub.execute_input": "2020-10-03T11:33:38.754201Z",
     "iopub.status.busy": "2020-10-03T11:33:38.753368Z",
     "iopub.status.idle": "2020-10-03T11:33:38.771056Z",
     "shell.execute_reply": "2020-10-03T11:33:38.770251Z"
    },
    "papermill": {
     "duration": 0.079389,
     "end_time": "2020-10-03T11:33:38.771197",
     "exception": false,
     "start_time": "2020-10-03T11:33:38.691808",
     "status": "completed"
    },
    "tags": []
   },
   "outputs": [
    {
     "data": {
      "text/html": [
       "<div>\n",
       "<style scoped>\n",
       "    .dataframe tbody tr th:only-of-type {\n",
       "        vertical-align: middle;\n",
       "    }\n",
       "\n",
       "    .dataframe tbody tr th {\n",
       "        vertical-align: top;\n",
       "    }\n",
       "\n",
       "    .dataframe thead th {\n",
       "        text-align: right;\n",
       "    }\n",
       "</style>\n",
       "<table border=\"1\" class=\"dataframe\">\n",
       "  <thead>\n",
       "    <tr style=\"text-align: right;\">\n",
       "      <th></th>\n",
       "      <th>Name of the show</th>\n",
       "      <th>Year of release</th>\n",
       "      <th>No of seasons available</th>\n",
       "      <th>Language</th>\n",
       "      <th>Genre</th>\n",
       "      <th>IMDb rating</th>\n",
       "      <th>Age of viewers</th>\n",
       "    </tr>\n",
       "  </thead>\n",
       "  <tbody>\n",
       "    <tr>\n",
       "      <th>20</th>\n",
       "      <td>The Test: A New Era for Australia's Team</td>\n",
       "      <td>2020</td>\n",
       "      <td>1</td>\n",
       "      <td>English</td>\n",
       "      <td>Documentary</td>\n",
       "      <td>9.0</td>\n",
       "      <td>16+</td>\n",
       "    </tr>\n",
       "    <tr>\n",
       "      <th>281</th>\n",
       "      <td>Seinfeld</td>\n",
       "      <td>1990</td>\n",
       "      <td>9</td>\n",
       "      <td>English</td>\n",
       "      <td>Comedy</td>\n",
       "      <td>8.8</td>\n",
       "      <td>13+</td>\n",
       "    </tr>\n",
       "    <tr>\n",
       "      <th>340</th>\n",
       "      <td>The Grand Tour</td>\n",
       "      <td>2017</td>\n",
       "      <td>4</td>\n",
       "      <td>English</td>\n",
       "      <td>Sports</td>\n",
       "      <td>8.7</td>\n",
       "      <td>16+</td>\n",
       "    </tr>\n",
       "    <tr>\n",
       "      <th>2</th>\n",
       "      <td>The Marvelous Mrs. Maisel</td>\n",
       "      <td>2017</td>\n",
       "      <td>3</td>\n",
       "      <td>English</td>\n",
       "      <td>Drama, Comedy</td>\n",
       "      <td>8.7</td>\n",
       "      <td>16+</td>\n",
       "    </tr>\n",
       "    <tr>\n",
       "      <th>4</th>\n",
       "      <td>Fleabag</td>\n",
       "      <td>2016</td>\n",
       "      <td>2</td>\n",
       "      <td>English</td>\n",
       "      <td>Comedy</td>\n",
       "      <td>8.7</td>\n",
       "      <td>18+</td>\n",
       "    </tr>\n",
       "    <tr>\n",
       "      <th>37</th>\n",
       "      <td>Hostel Daze</td>\n",
       "      <td>2019</td>\n",
       "      <td>1</td>\n",
       "      <td>Hindi</td>\n",
       "      <td>Drama, Comedy</td>\n",
       "      <td>8.7</td>\n",
       "      <td>16+</td>\n",
       "    </tr>\n",
       "    <tr>\n",
       "      <th>49</th>\n",
       "      <td>Downtown Abbey</td>\n",
       "      <td>2010</td>\n",
       "      <td>6</td>\n",
       "      <td>English</td>\n",
       "      <td>Drama</td>\n",
       "      <td>8.7</td>\n",
       "      <td>7+</td>\n",
       "    </tr>\n",
       "    <tr>\n",
       "      <th>51</th>\n",
       "      <td>This is Us</td>\n",
       "      <td>2017</td>\n",
       "      <td>3</td>\n",
       "      <td>English</td>\n",
       "      <td>Drama</td>\n",
       "      <td>8.7</td>\n",
       "      <td>16+</td>\n",
       "    </tr>\n",
       "    <tr>\n",
       "      <th>12</th>\n",
       "      <td>The Boys</td>\n",
       "      <td>2019</td>\n",
       "      <td>1</td>\n",
       "      <td>English</td>\n",
       "      <td>Action, Comedy</td>\n",
       "      <td>8.7</td>\n",
       "      <td>18+</td>\n",
       "    </tr>\n",
       "    <tr>\n",
       "      <th>40</th>\n",
       "      <td>Dexter</td>\n",
       "      <td>2006</td>\n",
       "      <td>8</td>\n",
       "      <td>English</td>\n",
       "      <td>Drama</td>\n",
       "      <td>8.6</td>\n",
       "      <td>18+</td>\n",
       "    </tr>\n",
       "  </tbody>\n",
       "</table>\n",
       "</div>"
      ],
      "text/plain": [
       "                             Name of the show  Year of release  \\\n",
       "20   The Test: A New Era for Australia's Team             2020   \n",
       "281                                  Seinfeld             1990   \n",
       "340                            The Grand Tour             2017   \n",
       "2                   The Marvelous Mrs. Maisel             2017   \n",
       "4                                     Fleabag             2016   \n",
       "37                                Hostel Daze             2019   \n",
       "49                             Downtown Abbey             2010   \n",
       "51                                 This is Us             2017   \n",
       "12                                   The Boys             2019   \n",
       "40                                     Dexter             2006   \n",
       "\n",
       "     No of seasons available Language           Genre  IMDb rating  \\\n",
       "20                         1  English     Documentary          9.0   \n",
       "281                        9  English          Comedy          8.8   \n",
       "340                        4  English          Sports          8.7   \n",
       "2                          3  English   Drama, Comedy          8.7   \n",
       "4                          2  English          Comedy          8.7   \n",
       "37                         1    Hindi   Drama, Comedy          8.7   \n",
       "49                         6  English           Drama          8.7   \n",
       "51                         3  English           Drama          8.7   \n",
       "12                         1  English  Action, Comedy          8.7   \n",
       "40                         8  English           Drama          8.6   \n",
       "\n",
       "    Age of viewers  \n",
       "20             16+  \n",
       "281            13+  \n",
       "340            16+  \n",
       "2              16+  \n",
       "4              18+  \n",
       "37             16+  \n",
       "49              7+  \n",
       "51             16+  \n",
       "12             18+  \n",
       "40             18+  "
      ]
     },
     "execution_count": 23,
     "metadata": {},
     "output_type": "execute_result"
    }
   ],
   "source": [
    "prime_df.sort_values(by = 'IMDb rating', ascending = False).head(10)"
   ]
  },
  {
   "cell_type": "code",
   "execution_count": 24,
   "metadata": {
    "execution": {
     "iopub.execute_input": "2020-10-03T11:33:38.893381Z",
     "iopub.status.busy": "2020-10-03T11:33:38.892626Z",
     "iopub.status.idle": "2020-10-03T11:33:38.910368Z",
     "shell.execute_reply": "2020-10-03T11:33:38.909613Z"
    },
    "papermill": {
     "duration": 0.082309,
     "end_time": "2020-10-03T11:33:38.910490",
     "exception": false,
     "start_time": "2020-10-03T11:33:38.828181",
     "status": "completed"
    },
    "tags": []
   },
   "outputs": [
    {
     "data": {
      "text/html": [
       "<div>\n",
       "<style scoped>\n",
       "    .dataframe tbody tr th:only-of-type {\n",
       "        vertical-align: middle;\n",
       "    }\n",
       "\n",
       "    .dataframe tbody tr th {\n",
       "        vertical-align: top;\n",
       "    }\n",
       "\n",
       "    .dataframe thead th {\n",
       "        text-align: right;\n",
       "    }\n",
       "</style>\n",
       "<table border=\"1\" class=\"dataframe\">\n",
       "  <thead>\n",
       "    <tr style=\"text-align: right;\">\n",
       "      <th></th>\n",
       "      <th>Name of the show</th>\n",
       "      <th>Year of release</th>\n",
       "      <th>No of seasons available</th>\n",
       "      <th>Language</th>\n",
       "      <th>IMDb rating</th>\n",
       "      <th>Age of viewers</th>\n",
       "    </tr>\n",
       "    <tr>\n",
       "      <th>Genre</th>\n",
       "      <th></th>\n",
       "      <th></th>\n",
       "      <th></th>\n",
       "      <th></th>\n",
       "      <th></th>\n",
       "      <th></th>\n",
       "    </tr>\n",
       "  </thead>\n",
       "  <tbody>\n",
       "    <tr>\n",
       "      <th>Action, Comedy</th>\n",
       "      <td>1</td>\n",
       "      <td>1</td>\n",
       "      <td>1</td>\n",
       "      <td>1</td>\n",
       "      <td>1</td>\n",
       "      <td>1</td>\n",
       "    </tr>\n",
       "    <tr>\n",
       "      <th>Comedy</th>\n",
       "      <td>3</td>\n",
       "      <td>3</td>\n",
       "      <td>3</td>\n",
       "      <td>3</td>\n",
       "      <td>3</td>\n",
       "      <td>3</td>\n",
       "    </tr>\n",
       "    <tr>\n",
       "      <th>Comedy, Drama</th>\n",
       "      <td>1</td>\n",
       "      <td>1</td>\n",
       "      <td>1</td>\n",
       "      <td>1</td>\n",
       "      <td>1</td>\n",
       "      <td>1</td>\n",
       "    </tr>\n",
       "    <tr>\n",
       "      <th>Documentary</th>\n",
       "      <td>1</td>\n",
       "      <td>1</td>\n",
       "      <td>1</td>\n",
       "      <td>1</td>\n",
       "      <td>1</td>\n",
       "      <td>1</td>\n",
       "    </tr>\n",
       "    <tr>\n",
       "      <th>Drama</th>\n",
       "      <td>11</td>\n",
       "      <td>11</td>\n",
       "      <td>11</td>\n",
       "      <td>11</td>\n",
       "      <td>11</td>\n",
       "      <td>11</td>\n",
       "    </tr>\n",
       "    <tr>\n",
       "      <th>Drama, Action</th>\n",
       "      <td>1</td>\n",
       "      <td>1</td>\n",
       "      <td>1</td>\n",
       "      <td>1</td>\n",
       "      <td>1</td>\n",
       "      <td>1</td>\n",
       "    </tr>\n",
       "    <tr>\n",
       "      <th>Drama, Action, Suspense</th>\n",
       "      <td>1</td>\n",
       "      <td>1</td>\n",
       "      <td>1</td>\n",
       "      <td>1</td>\n",
       "      <td>1</td>\n",
       "      <td>1</td>\n",
       "    </tr>\n",
       "    <tr>\n",
       "      <th>Drama, Comedy</th>\n",
       "      <td>2</td>\n",
       "      <td>2</td>\n",
       "      <td>2</td>\n",
       "      <td>2</td>\n",
       "      <td>2</td>\n",
       "      <td>2</td>\n",
       "    </tr>\n",
       "    <tr>\n",
       "      <th>Drama, Suspense</th>\n",
       "      <td>3</td>\n",
       "      <td>3</td>\n",
       "      <td>3</td>\n",
       "      <td>3</td>\n",
       "      <td>3</td>\n",
       "      <td>3</td>\n",
       "    </tr>\n",
       "    <tr>\n",
       "      <th>Drama, Suspense, Horror</th>\n",
       "      <td>1</td>\n",
       "      <td>1</td>\n",
       "      <td>1</td>\n",
       "      <td>1</td>\n",
       "      <td>1</td>\n",
       "      <td>1</td>\n",
       "    </tr>\n",
       "    <tr>\n",
       "      <th>Kids</th>\n",
       "      <td>3</td>\n",
       "      <td>3</td>\n",
       "      <td>3</td>\n",
       "      <td>3</td>\n",
       "      <td>3</td>\n",
       "      <td>3</td>\n",
       "    </tr>\n",
       "    <tr>\n",
       "      <th>Sci-fi</th>\n",
       "      <td>1</td>\n",
       "      <td>1</td>\n",
       "      <td>1</td>\n",
       "      <td>1</td>\n",
       "      <td>1</td>\n",
       "      <td>1</td>\n",
       "    </tr>\n",
       "    <tr>\n",
       "      <th>Sports</th>\n",
       "      <td>1</td>\n",
       "      <td>1</td>\n",
       "      <td>1</td>\n",
       "      <td>1</td>\n",
       "      <td>1</td>\n",
       "      <td>1</td>\n",
       "    </tr>\n",
       "  </tbody>\n",
       "</table>\n",
       "</div>"
      ],
      "text/plain": [
       "                         Name of the show  Year of release  \\\n",
       "Genre                                                        \n",
       "Action, Comedy                          1                1   \n",
       "Comedy                                  3                3   \n",
       "Comedy, Drama                           1                1   \n",
       "Documentary                             1                1   \n",
       "Drama                                  11               11   \n",
       "Drama, Action                           1                1   \n",
       "Drama, Action, Suspense                 1                1   \n",
       "Drama, Comedy                           2                2   \n",
       "Drama, Suspense                         3                3   \n",
       "Drama, Suspense, Horror                 1                1   \n",
       "Kids                                    3                3   \n",
       "Sci-fi                                  1                1   \n",
       "Sports                                  1                1   \n",
       "\n",
       "                         No of seasons available  Language  IMDb rating  \\\n",
       "Genre                                                                     \n",
       "Action, Comedy                                 1         1            1   \n",
       "Comedy                                         3         3            3   \n",
       "Comedy, Drama                                  1         1            1   \n",
       "Documentary                                    1         1            1   \n",
       "Drama                                         11        11           11   \n",
       "Drama, Action                                  1         1            1   \n",
       "Drama, Action, Suspense                        1         1            1   \n",
       "Drama, Comedy                                  2         2            2   \n",
       "Drama, Suspense                                3         3            3   \n",
       "Drama, Suspense, Horror                        1         1            1   \n",
       "Kids                                           3         3            3   \n",
       "Sci-fi                                         1         1            1   \n",
       "Sports                                         1         1            1   \n",
       "\n",
       "                         Age of viewers  \n",
       "Genre                                    \n",
       "Action, Comedy                        1  \n",
       "Comedy                                3  \n",
       "Comedy, Drama                         1  \n",
       "Documentary                           1  \n",
       "Drama                                11  \n",
       "Drama, Action                         1  \n",
       "Drama, Action, Suspense               1  \n",
       "Drama, Comedy                         2  \n",
       "Drama, Suspense                       3  \n",
       "Drama, Suspense, Horror               1  \n",
       "Kids                                  3  \n",
       "Sci-fi                                1  \n",
       "Sports                                1  "
      ]
     },
     "execution_count": 24,
     "metadata": {},
     "output_type": "execute_result"
    }
   ],
   "source": [
    "(prime_df.sort_values(by = 'IMDb rating', ascending = False).head(30)).groupby(['Genre']).count()"
   ]
  },
  {
   "cell_type": "markdown",
   "metadata": {
    "papermill": {
     "duration": 0.057887,
     "end_time": "2020-10-03T11:33:39.025648",
     "exception": false,
     "start_time": "2020-10-03T11:33:38.967761",
     "status": "completed"
    },
    "tags": []
   },
   "source": [
    "## Lowest rated shows on Amazon Prime"
   ]
  },
  {
   "cell_type": "code",
   "execution_count": 25,
   "metadata": {
    "execution": {
     "iopub.execute_input": "2020-10-03T11:33:39.160393Z",
     "iopub.status.busy": "2020-10-03T11:33:39.159343Z",
     "iopub.status.idle": "2020-10-03T11:33:39.163844Z",
     "shell.execute_reply": "2020-10-03T11:33:39.163258Z"
    },
    "papermill": {
     "duration": 0.079628,
     "end_time": "2020-10-03T11:33:39.163972",
     "exception": false,
     "start_time": "2020-10-03T11:33:39.084344",
     "status": "completed"
    },
    "tags": []
   },
   "outputs": [
    {
     "data": {
      "text/html": [
       "<div>\n",
       "<style scoped>\n",
       "    .dataframe tbody tr th:only-of-type {\n",
       "        vertical-align: middle;\n",
       "    }\n",
       "\n",
       "    .dataframe tbody tr th {\n",
       "        vertical-align: top;\n",
       "    }\n",
       "\n",
       "    .dataframe thead th {\n",
       "        text-align: right;\n",
       "    }\n",
       "</style>\n",
       "<table border=\"1\" class=\"dataframe\">\n",
       "  <thead>\n",
       "    <tr style=\"text-align: right;\">\n",
       "      <th></th>\n",
       "      <th>Name of the show</th>\n",
       "      <th>Year of release</th>\n",
       "      <th>No of seasons available</th>\n",
       "      <th>Language</th>\n",
       "      <th>Genre</th>\n",
       "      <th>IMDb rating</th>\n",
       "      <th>Age of viewers</th>\n",
       "    </tr>\n",
       "  </thead>\n",
       "  <tbody>\n",
       "    <tr>\n",
       "      <th>367</th>\n",
       "      <td>Ilana Glazer: The Planet is Burning</td>\n",
       "      <td>2020</td>\n",
       "      <td>1</td>\n",
       "      <td>English</td>\n",
       "      <td>Comedy</td>\n",
       "      <td>3.7</td>\n",
       "      <td>18+</td>\n",
       "    </tr>\n",
       "    <tr>\n",
       "      <th>162</th>\n",
       "      <td>Tokyo Alice</td>\n",
       "      <td>2019</td>\n",
       "      <td>1</td>\n",
       "      <td>Japanese</td>\n",
       "      <td>Drama</td>\n",
       "      <td>4.0</td>\n",
       "      <td>13+</td>\n",
       "    </tr>\n",
       "    <tr>\n",
       "      <th>243</th>\n",
       "      <td>Skulls and Roses</td>\n",
       "      <td>2019</td>\n",
       "      <td>1</td>\n",
       "      <td>Hindi</td>\n",
       "      <td>Action</td>\n",
       "      <td>4.3</td>\n",
       "      <td>18+</td>\n",
       "    </tr>\n",
       "    <tr>\n",
       "      <th>428</th>\n",
       "      <td>L.O.L Surprise</td>\n",
       "      <td>2019</td>\n",
       "      <td>1</td>\n",
       "      <td>English</td>\n",
       "      <td>Kids</td>\n",
       "      <td>4.3</td>\n",
       "      <td>All</td>\n",
       "    </tr>\n",
       "    <tr>\n",
       "      <th>413</th>\n",
       "      <td>Wishenpoof</td>\n",
       "      <td>2015</td>\n",
       "      <td>4</td>\n",
       "      <td>English</td>\n",
       "      <td>Kids</td>\n",
       "      <td>4.4</td>\n",
       "      <td>All</td>\n",
       "    </tr>\n",
       "    <tr>\n",
       "      <th>430</th>\n",
       "      <td>Alvin and the Chipmunks</td>\n",
       "      <td>2017</td>\n",
       "      <td>4</td>\n",
       "      <td>English</td>\n",
       "      <td>Kids</td>\n",
       "      <td>4.5</td>\n",
       "      <td>7+</td>\n",
       "    </tr>\n",
       "    <tr>\n",
       "      <th>375</th>\n",
       "      <td>Businessmen VS Aliens</td>\n",
       "      <td>2018</td>\n",
       "      <td>1</td>\n",
       "      <td>Japanese</td>\n",
       "      <td>Comedy</td>\n",
       "      <td>4.5</td>\n",
       "      <td>13+</td>\n",
       "    </tr>\n",
       "    <tr>\n",
       "      <th>317</th>\n",
       "      <td>Alice Wettlund: My Mama is a Human and So Am I</td>\n",
       "      <td>2019</td>\n",
       "      <td>1</td>\n",
       "      <td>English</td>\n",
       "      <td>Comedy</td>\n",
       "      <td>4.7</td>\n",
       "      <td>16+</td>\n",
       "    </tr>\n",
       "    <tr>\n",
       "      <th>466</th>\n",
       "      <td>Strawberry Shortcake</td>\n",
       "      <td>2003</td>\n",
       "      <td>1</td>\n",
       "      <td>English</td>\n",
       "      <td>Kids</td>\n",
       "      <td>4.8</td>\n",
       "      <td>All</td>\n",
       "    </tr>\n",
       "    <tr>\n",
       "      <th>473</th>\n",
       "      <td>G.I. Joe Sigma Six</td>\n",
       "      <td>2006</td>\n",
       "      <td>1</td>\n",
       "      <td>English</td>\n",
       "      <td>Kids</td>\n",
       "      <td>4.9</td>\n",
       "      <td>7+</td>\n",
       "    </tr>\n",
       "  </tbody>\n",
       "</table>\n",
       "</div>"
      ],
      "text/plain": [
       "                                   Name of the show  Year of release  \\\n",
       "367             Ilana Glazer: The Planet is Burning             2020   \n",
       "162                                     Tokyo Alice             2019   \n",
       "243                                Skulls and Roses             2019   \n",
       "428                                  L.O.L Surprise             2019   \n",
       "413                                      Wishenpoof             2015   \n",
       "430                         Alvin and the Chipmunks             2017   \n",
       "375                           Businessmen VS Aliens             2018   \n",
       "317  Alice Wettlund: My Mama is a Human and So Am I             2019   \n",
       "466                            Strawberry Shortcake             2003   \n",
       "473                              G.I. Joe Sigma Six             2006   \n",
       "\n",
       "     No of seasons available  Language   Genre  IMDb rating Age of viewers  \n",
       "367                        1   English  Comedy          3.7            18+  \n",
       "162                        1  Japanese   Drama          4.0            13+  \n",
       "243                        1     Hindi  Action          4.3            18+  \n",
       "428                        1   English    Kids          4.3            All  \n",
       "413                        4   English    Kids          4.4            All  \n",
       "430                        4   English    Kids          4.5             7+  \n",
       "375                        1  Japanese  Comedy          4.5            13+  \n",
       "317                        1   English  Comedy          4.7            16+  \n",
       "466                        1   English    Kids          4.8            All  \n",
       "473                        1   English    Kids          4.9             7+  "
      ]
     },
     "execution_count": 25,
     "metadata": {},
     "output_type": "execute_result"
    }
   ],
   "source": [
    "prime_df.sort_values(by = 'IMDb rating').head(10)"
   ]
  },
  {
   "cell_type": "code",
   "execution_count": 26,
   "metadata": {
    "execution": {
     "iopub.execute_input": "2020-10-03T11:33:39.298240Z",
     "iopub.status.busy": "2020-10-03T11:33:39.286968Z",
     "iopub.status.idle": "2020-10-03T11:33:39.303303Z",
     "shell.execute_reply": "2020-10-03T11:33:39.302632Z"
    },
    "papermill": {
     "duration": 0.080691,
     "end_time": "2020-10-03T11:33:39.303427",
     "exception": false,
     "start_time": "2020-10-03T11:33:39.222736",
     "status": "completed"
    },
    "tags": []
   },
   "outputs": [
    {
     "data": {
      "text/html": [
       "<div>\n",
       "<style scoped>\n",
       "    .dataframe tbody tr th:only-of-type {\n",
       "        vertical-align: middle;\n",
       "    }\n",
       "\n",
       "    .dataframe tbody tr th {\n",
       "        vertical-align: top;\n",
       "    }\n",
       "\n",
       "    .dataframe thead th {\n",
       "        text-align: right;\n",
       "    }\n",
       "</style>\n",
       "<table border=\"1\" class=\"dataframe\">\n",
       "  <thead>\n",
       "    <tr style=\"text-align: right;\">\n",
       "      <th></th>\n",
       "      <th>Name of the show</th>\n",
       "      <th>Year of release</th>\n",
       "      <th>No of seasons available</th>\n",
       "      <th>Language</th>\n",
       "      <th>IMDb rating</th>\n",
       "      <th>Age of viewers</th>\n",
       "    </tr>\n",
       "    <tr>\n",
       "      <th>Genre</th>\n",
       "      <th></th>\n",
       "      <th></th>\n",
       "      <th></th>\n",
       "      <th></th>\n",
       "      <th></th>\n",
       "      <th></th>\n",
       "    </tr>\n",
       "  </thead>\n",
       "  <tbody>\n",
       "    <tr>\n",
       "      <th>Action</th>\n",
       "      <td>1</td>\n",
       "      <td>1</td>\n",
       "      <td>1</td>\n",
       "      <td>1</td>\n",
       "      <td>1</td>\n",
       "      <td>1</td>\n",
       "    </tr>\n",
       "    <tr>\n",
       "      <th>Comedy</th>\n",
       "      <td>10</td>\n",
       "      <td>10</td>\n",
       "      <td>10</td>\n",
       "      <td>10</td>\n",
       "      <td>10</td>\n",
       "      <td>10</td>\n",
       "    </tr>\n",
       "    <tr>\n",
       "      <th>Comedy, Arts, Entertainment, Culture</th>\n",
       "      <td>1</td>\n",
       "      <td>1</td>\n",
       "      <td>1</td>\n",
       "      <td>1</td>\n",
       "      <td>1</td>\n",
       "      <td>1</td>\n",
       "    </tr>\n",
       "    <tr>\n",
       "      <th>Drama</th>\n",
       "      <td>4</td>\n",
       "      <td>4</td>\n",
       "      <td>4</td>\n",
       "      <td>4</td>\n",
       "      <td>4</td>\n",
       "      <td>4</td>\n",
       "    </tr>\n",
       "    <tr>\n",
       "      <th>Drama, Action</th>\n",
       "      <td>1</td>\n",
       "      <td>1</td>\n",
       "      <td>1</td>\n",
       "      <td>1</td>\n",
       "      <td>1</td>\n",
       "      <td>1</td>\n",
       "    </tr>\n",
       "    <tr>\n",
       "      <th>Drama, Comedy</th>\n",
       "      <td>1</td>\n",
       "      <td>1</td>\n",
       "      <td>1</td>\n",
       "      <td>1</td>\n",
       "      <td>1</td>\n",
       "      <td>1</td>\n",
       "    </tr>\n",
       "    <tr>\n",
       "      <th>Kids</th>\n",
       "      <td>12</td>\n",
       "      <td>12</td>\n",
       "      <td>12</td>\n",
       "      <td>12</td>\n",
       "      <td>12</td>\n",
       "      <td>12</td>\n",
       "    </tr>\n",
       "  </tbody>\n",
       "</table>\n",
       "</div>"
      ],
      "text/plain": [
       "                                      Name of the show  Year of release  \\\n",
       "Genre                                                                     \n",
       "Action                                               1                1   \n",
       "Comedy                                              10               10   \n",
       "Comedy, Arts, Entertainment, Culture                 1                1   \n",
       "Drama                                                4                4   \n",
       "Drama, Action                                        1                1   \n",
       "Drama, Comedy                                        1                1   \n",
       "Kids                                                12               12   \n",
       "\n",
       "                                      No of seasons available  Language  \\\n",
       "Genre                                                                     \n",
       "Action                                                      1         1   \n",
       "Comedy                                                     10        10   \n",
       "Comedy, Arts, Entertainment, Culture                        1         1   \n",
       "Drama                                                       4         4   \n",
       "Drama, Action                                               1         1   \n",
       "Drama, Comedy                                               1         1   \n",
       "Kids                                                       12        12   \n",
       "\n",
       "                                      IMDb rating  Age of viewers  \n",
       "Genre                                                              \n",
       "Action                                          1               1  \n",
       "Comedy                                         10              10  \n",
       "Comedy, Arts, Entertainment, Culture            1               1  \n",
       "Drama                                           4               4  \n",
       "Drama, Action                                   1               1  \n",
       "Drama, Comedy                                   1               1  \n",
       "Kids                                           12              12  "
      ]
     },
     "execution_count": 26,
     "metadata": {},
     "output_type": "execute_result"
    }
   ],
   "source": [
    "(prime_df.sort_values(by = 'IMDb rating').head(30)).groupby(['Genre']).count()"
   ]
  },
  {
   "cell_type": "markdown",
   "metadata": {
    "papermill": {
     "duration": 0.05849,
     "end_time": "2020-10-03T11:33:39.421734",
     "exception": false,
     "start_time": "2020-10-03T11:33:39.363244",
     "status": "completed"
    },
    "tags": []
   },
   "source": [
    "* Among the highest rated shows, most of them belong to the genre Drama.\n",
    "* A good percentage of the lowest rated shows are of genre Kids."
   ]
  },
  {
   "cell_type": "markdown",
   "metadata": {
    "papermill": {
     "duration": 0.060049,
     "end_time": "2020-10-03T11:33:39.541078",
     "exception": false,
     "start_time": "2020-10-03T11:33:39.481029",
     "status": "completed"
    },
    "tags": []
   },
   "source": [
    "# Top 10 highest rated shows of 2020"
   ]
  },
  {
   "cell_type": "code",
   "execution_count": 27,
   "metadata": {
    "execution": {
     "iopub.execute_input": "2020-10-03T11:33:39.680471Z",
     "iopub.status.busy": "2020-10-03T11:33:39.679277Z",
     "iopub.status.idle": "2020-10-03T11:33:39.683804Z",
     "shell.execute_reply": "2020-10-03T11:33:39.683163Z"
    },
    "papermill": {
     "duration": 0.082492,
     "end_time": "2020-10-03T11:33:39.683934",
     "exception": false,
     "start_time": "2020-10-03T11:33:39.601442",
     "status": "completed"
    },
    "tags": []
   },
   "outputs": [
    {
     "data": {
      "text/html": [
       "<div>\n",
       "<style scoped>\n",
       "    .dataframe tbody tr th:only-of-type {\n",
       "        vertical-align: middle;\n",
       "    }\n",
       "\n",
       "    .dataframe tbody tr th {\n",
       "        vertical-align: top;\n",
       "    }\n",
       "\n",
       "    .dataframe thead th {\n",
       "        text-align: right;\n",
       "    }\n",
       "</style>\n",
       "<table border=\"1\" class=\"dataframe\">\n",
       "  <thead>\n",
       "    <tr style=\"text-align: right;\">\n",
       "      <th></th>\n",
       "      <th>Name of the show</th>\n",
       "      <th>Year of release</th>\n",
       "      <th>No of seasons available</th>\n",
       "      <th>Language</th>\n",
       "      <th>Genre</th>\n",
       "      <th>IMDb rating</th>\n",
       "      <th>Age of viewers</th>\n",
       "    </tr>\n",
       "  </thead>\n",
       "  <tbody>\n",
       "    <tr>\n",
       "      <th>20</th>\n",
       "      <td>The Test: A New Era for Australia's Team</td>\n",
       "      <td>2020</td>\n",
       "      <td>1</td>\n",
       "      <td>English</td>\n",
       "      <td>Documentary</td>\n",
       "      <td>9.0</td>\n",
       "      <td>16+</td>\n",
       "    </tr>\n",
       "    <tr>\n",
       "      <th>452</th>\n",
       "      <td>Jessy and Nessy</td>\n",
       "      <td>2020</td>\n",
       "      <td>1</td>\n",
       "      <td>English</td>\n",
       "      <td>Kids</td>\n",
       "      <td>8.3</td>\n",
       "      <td>All</td>\n",
       "    </tr>\n",
       "    <tr>\n",
       "      <th>1</th>\n",
       "      <td>Upload</td>\n",
       "      <td>2020</td>\n",
       "      <td>1</td>\n",
       "      <td>English</td>\n",
       "      <td>Sci-fi comedy</td>\n",
       "      <td>8.1</td>\n",
       "      <td>16+</td>\n",
       "    </tr>\n",
       "    <tr>\n",
       "      <th>17</th>\n",
       "      <td>The Forgotten Army- Azaadi ke Liye</td>\n",
       "      <td>2020</td>\n",
       "      <td>1</td>\n",
       "      <td>Hindi</td>\n",
       "      <td>Drama, Action</td>\n",
       "      <td>8.0</td>\n",
       "      <td>18+</td>\n",
       "    </tr>\n",
       "    <tr>\n",
       "      <th>73</th>\n",
       "      <td>Star Trek: Picard</td>\n",
       "      <td>2020</td>\n",
       "      <td>1</td>\n",
       "      <td>English</td>\n",
       "      <td>Sci-fi</td>\n",
       "      <td>7.6</td>\n",
       "      <td>18+</td>\n",
       "    </tr>\n",
       "    <tr>\n",
       "      <th>0</th>\n",
       "      <td>Pataal Lok</td>\n",
       "      <td>2020</td>\n",
       "      <td>1</td>\n",
       "      <td>Hindi</td>\n",
       "      <td>Drama</td>\n",
       "      <td>7.5</td>\n",
       "      <td>18+</td>\n",
       "    </tr>\n",
       "    <tr>\n",
       "      <th>19</th>\n",
       "      <td>Tales from the Loop</td>\n",
       "      <td>2020</td>\n",
       "      <td>1</td>\n",
       "      <td>English</td>\n",
       "      <td>Sci-fi</td>\n",
       "      <td>7.5</td>\n",
       "      <td>18+</td>\n",
       "    </tr>\n",
       "    <tr>\n",
       "      <th>406</th>\n",
       "      <td>Just Add Magic: Mystery City</td>\n",
       "      <td>2020</td>\n",
       "      <td>1</td>\n",
       "      <td>English</td>\n",
       "      <td>Kids</td>\n",
       "      <td>7.3</td>\n",
       "      <td>All</td>\n",
       "    </tr>\n",
       "    <tr>\n",
       "      <th>14</th>\n",
       "      <td>Hunters</td>\n",
       "      <td>2020</td>\n",
       "      <td>1</td>\n",
       "      <td>English</td>\n",
       "      <td>Drama, Action, Suspense</td>\n",
       "      <td>7.2</td>\n",
       "      <td>18+</td>\n",
       "    </tr>\n",
       "    <tr>\n",
       "      <th>286</th>\n",
       "      <td>Jimmy O. Yang: Good Deal</td>\n",
       "      <td>2020</td>\n",
       "      <td>1</td>\n",
       "      <td>English</td>\n",
       "      <td>Arts, Entertainment, Culture</td>\n",
       "      <td>7.1</td>\n",
       "      <td>18+</td>\n",
       "    </tr>\n",
       "  </tbody>\n",
       "</table>\n",
       "</div>"
      ],
      "text/plain": [
       "                             Name of the show  Year of release  \\\n",
       "20   The Test: A New Era for Australia's Team             2020   \n",
       "452                           Jessy and Nessy             2020   \n",
       "1                                      Upload             2020   \n",
       "17         The Forgotten Army- Azaadi ke Liye             2020   \n",
       "73                          Star Trek: Picard             2020   \n",
       "0                                  Pataal Lok             2020   \n",
       "19                        Tales from the Loop             2020   \n",
       "406              Just Add Magic: Mystery City             2020   \n",
       "14                                    Hunters             2020   \n",
       "286                  Jimmy O. Yang: Good Deal             2020   \n",
       "\n",
       "     No of seasons available Language                         Genre  \\\n",
       "20                         1  English                   Documentary   \n",
       "452                        1  English                          Kids   \n",
       "1                          1  English                 Sci-fi comedy   \n",
       "17                         1    Hindi                 Drama, Action   \n",
       "73                         1  English                        Sci-fi   \n",
       "0                          1    Hindi                         Drama   \n",
       "19                         1  English                       Sci-fi    \n",
       "406                        1  English                          Kids   \n",
       "14                         1  English       Drama, Action, Suspense   \n",
       "286                        1  English  Arts, Entertainment, Culture   \n",
       "\n",
       "     IMDb rating Age of viewers  \n",
       "20           9.0            16+  \n",
       "452          8.3            All  \n",
       "1            8.1            16+  \n",
       "17           8.0            18+  \n",
       "73           7.6            18+  \n",
       "0            7.5            18+  \n",
       "19           7.5            18+  \n",
       "406          7.3            All  \n",
       "14           7.2            18+  \n",
       "286          7.1            18+  "
      ]
     },
     "execution_count": 27,
     "metadata": {},
     "output_type": "execute_result"
    }
   ],
   "source": [
    "prime_df[prime_df['Year of release'] == 2020].sort_values(by = 'IMDb rating', ascending = False).head(10)"
   ]
  },
  {
   "cell_type": "markdown",
   "metadata": {
    "papermill": {
     "duration": 0.059818,
     "end_time": "2020-10-03T11:33:39.804180",
     "exception": false,
     "start_time": "2020-10-03T11:33:39.744362",
     "status": "completed"
    },
    "tags": []
   },
   "source": [
    "# Top 5 highest rated English shows and Hindi shows"
   ]
  },
  {
   "cell_type": "code",
   "execution_count": 28,
   "metadata": {
    "execution": {
     "iopub.execute_input": "2020-10-03T11:33:39.944045Z",
     "iopub.status.busy": "2020-10-03T11:33:39.943017Z",
     "iopub.status.idle": "2020-10-03T11:33:39.948183Z",
     "shell.execute_reply": "2020-10-03T11:33:39.947568Z"
    },
    "papermill": {
     "duration": 0.083981,
     "end_time": "2020-10-03T11:33:39.948318",
     "exception": false,
     "start_time": "2020-10-03T11:33:39.864337",
     "status": "completed"
    },
    "tags": []
   },
   "outputs": [
    {
     "data": {
      "text/html": [
       "<div>\n",
       "<style scoped>\n",
       "    .dataframe tbody tr th:only-of-type {\n",
       "        vertical-align: middle;\n",
       "    }\n",
       "\n",
       "    .dataframe tbody tr th {\n",
       "        vertical-align: top;\n",
       "    }\n",
       "\n",
       "    .dataframe thead th {\n",
       "        text-align: right;\n",
       "    }\n",
       "</style>\n",
       "<table border=\"1\" class=\"dataframe\">\n",
       "  <thead>\n",
       "    <tr style=\"text-align: right;\">\n",
       "      <th></th>\n",
       "      <th>Name of the show</th>\n",
       "      <th>Year of release</th>\n",
       "      <th>No of seasons available</th>\n",
       "      <th>Language</th>\n",
       "      <th>Genre</th>\n",
       "      <th>IMDb rating</th>\n",
       "      <th>Age of viewers</th>\n",
       "    </tr>\n",
       "  </thead>\n",
       "  <tbody>\n",
       "    <tr>\n",
       "      <th>20</th>\n",
       "      <td>The Test: A New Era for Australia's Team</td>\n",
       "      <td>2020</td>\n",
       "      <td>1</td>\n",
       "      <td>English</td>\n",
       "      <td>Documentary</td>\n",
       "      <td>9.0</td>\n",
       "      <td>16+</td>\n",
       "    </tr>\n",
       "    <tr>\n",
       "      <th>281</th>\n",
       "      <td>Seinfeld</td>\n",
       "      <td>1990</td>\n",
       "      <td>9</td>\n",
       "      <td>English</td>\n",
       "      <td>Comedy</td>\n",
       "      <td>8.8</td>\n",
       "      <td>13+</td>\n",
       "    </tr>\n",
       "    <tr>\n",
       "      <th>49</th>\n",
       "      <td>Downtown Abbey</td>\n",
       "      <td>2010</td>\n",
       "      <td>6</td>\n",
       "      <td>English</td>\n",
       "      <td>Drama</td>\n",
       "      <td>8.7</td>\n",
       "      <td>7+</td>\n",
       "    </tr>\n",
       "    <tr>\n",
       "      <th>4</th>\n",
       "      <td>Fleabag</td>\n",
       "      <td>2016</td>\n",
       "      <td>2</td>\n",
       "      <td>English</td>\n",
       "      <td>Comedy</td>\n",
       "      <td>8.7</td>\n",
       "      <td>18+</td>\n",
       "    </tr>\n",
       "    <tr>\n",
       "      <th>340</th>\n",
       "      <td>The Grand Tour</td>\n",
       "      <td>2017</td>\n",
       "      <td>4</td>\n",
       "      <td>English</td>\n",
       "      <td>Sports</td>\n",
       "      <td>8.7</td>\n",
       "      <td>16+</td>\n",
       "    </tr>\n",
       "  </tbody>\n",
       "</table>\n",
       "</div>"
      ],
      "text/plain": [
       "                             Name of the show  Year of release  \\\n",
       "20   The Test: A New Era for Australia's Team             2020   \n",
       "281                                  Seinfeld             1990   \n",
       "49                             Downtown Abbey             2010   \n",
       "4                                     Fleabag             2016   \n",
       "340                            The Grand Tour             2017   \n",
       "\n",
       "     No of seasons available Language        Genre  IMDb rating Age of viewers  \n",
       "20                         1  English  Documentary          9.0            16+  \n",
       "281                        9  English       Comedy          8.8            13+  \n",
       "49                         6  English        Drama          8.7             7+  \n",
       "4                          2  English       Comedy          8.7            18+  \n",
       "340                        4  English       Sports          8.7            16+  "
      ]
     },
     "execution_count": 28,
     "metadata": {},
     "output_type": "execute_result"
    }
   ],
   "source": [
    "prime_df[prime_df['Language'] == 'English'].sort_values(by = 'IMDb rating', ascending = False).head(5)"
   ]
  },
  {
   "cell_type": "code",
   "execution_count": 29,
   "metadata": {
    "execution": {
     "iopub.execute_input": "2020-10-03T11:33:40.089718Z",
     "iopub.status.busy": "2020-10-03T11:33:40.088624Z",
     "iopub.status.idle": "2020-10-03T11:33:40.093819Z",
     "shell.execute_reply": "2020-10-03T11:33:40.093190Z"
    },
    "papermill": {
     "duration": 0.084581,
     "end_time": "2020-10-03T11:33:40.093940",
     "exception": false,
     "start_time": "2020-10-03T11:33:40.009359",
     "status": "completed"
    },
    "tags": []
   },
   "outputs": [
    {
     "data": {
      "text/html": [
       "<div>\n",
       "<style scoped>\n",
       "    .dataframe tbody tr th:only-of-type {\n",
       "        vertical-align: middle;\n",
       "    }\n",
       "\n",
       "    .dataframe tbody tr th {\n",
       "        vertical-align: top;\n",
       "    }\n",
       "\n",
       "    .dataframe thead th {\n",
       "        text-align: right;\n",
       "    }\n",
       "</style>\n",
       "<table border=\"1\" class=\"dataframe\">\n",
       "  <thead>\n",
       "    <tr style=\"text-align: right;\">\n",
       "      <th></th>\n",
       "      <th>Name of the show</th>\n",
       "      <th>Year of release</th>\n",
       "      <th>No of seasons available</th>\n",
       "      <th>Language</th>\n",
       "      <th>Genre</th>\n",
       "      <th>IMDb rating</th>\n",
       "      <th>Age of viewers</th>\n",
       "    </tr>\n",
       "  </thead>\n",
       "  <tbody>\n",
       "    <tr>\n",
       "      <th>37</th>\n",
       "      <td>Hostel Daze</td>\n",
       "      <td>2019</td>\n",
       "      <td>1</td>\n",
       "      <td>Hindi</td>\n",
       "      <td>Drama, Comedy</td>\n",
       "      <td>8.7</td>\n",
       "      <td>16+</td>\n",
       "    </tr>\n",
       "    <tr>\n",
       "      <th>8</th>\n",
       "      <td>The Family Man</td>\n",
       "      <td>2019</td>\n",
       "      <td>1</td>\n",
       "      <td>Hindi</td>\n",
       "      <td>Drama, Action</td>\n",
       "      <td>8.6</td>\n",
       "      <td>18+</td>\n",
       "    </tr>\n",
       "    <tr>\n",
       "      <th>7</th>\n",
       "      <td>Mirzapur</td>\n",
       "      <td>2018</td>\n",
       "      <td>1</td>\n",
       "      <td>Hindi</td>\n",
       "      <td>Drama</td>\n",
       "      <td>8.5</td>\n",
       "      <td>18+</td>\n",
       "    </tr>\n",
       "    <tr>\n",
       "      <th>16</th>\n",
       "      <td>Breathe</td>\n",
       "      <td>2018</td>\n",
       "      <td>1</td>\n",
       "      <td>Hindi</td>\n",
       "      <td>Drama, Suspense</td>\n",
       "      <td>8.4</td>\n",
       "      <td>16+</td>\n",
       "    </tr>\n",
       "    <tr>\n",
       "      <th>5</th>\n",
       "      <td>Made in Heaven</td>\n",
       "      <td>2019</td>\n",
       "      <td>1</td>\n",
       "      <td>Hindi</td>\n",
       "      <td>Drama</td>\n",
       "      <td>8.3</td>\n",
       "      <td>18+</td>\n",
       "    </tr>\n",
       "  </tbody>\n",
       "</table>\n",
       "</div>"
      ],
      "text/plain": [
       "   Name of the show  Year of release  No of seasons available Language  \\\n",
       "37      Hostel Daze             2019                        1    Hindi   \n",
       "8    The Family Man             2019                        1    Hindi   \n",
       "7          Mirzapur             2018                        1    Hindi   \n",
       "16          Breathe             2018                        1    Hindi   \n",
       "5    Made in Heaven             2019                        1    Hindi   \n",
       "\n",
       "              Genre  IMDb rating Age of viewers  \n",
       "37    Drama, Comedy          8.7            16+  \n",
       "8     Drama, Action          8.6            18+  \n",
       "7             Drama          8.5            18+  \n",
       "16  Drama, Suspense          8.4            16+  \n",
       "5             Drama          8.3            18+  "
      ]
     },
     "execution_count": 29,
     "metadata": {},
     "output_type": "execute_result"
    }
   ],
   "source": [
    "prime_df[prime_df['Language'] == 'Hindi'].sort_values(by = 'IMDb rating', ascending = False).head(5)"
   ]
  },
  {
   "cell_type": "markdown",
   "metadata": {
    "papermill": {
     "duration": 0.06046,
     "end_time": "2020-10-03T11:33:40.215908",
     "exception": false,
     "start_time": "2020-10-03T11:33:40.155448",
     "status": "completed"
    },
    "tags": []
   },
   "source": [
    "# Show with maximum number of seasons"
   ]
  },
  {
   "cell_type": "code",
   "execution_count": 30,
   "metadata": {
    "execution": {
     "iopub.execute_input": "2020-10-03T11:33:40.356392Z",
     "iopub.status.busy": "2020-10-03T11:33:40.355004Z",
     "iopub.status.idle": "2020-10-03T11:33:40.360251Z",
     "shell.execute_reply": "2020-10-03T11:33:40.359425Z"
    },
    "papermill": {
     "duration": 0.082354,
     "end_time": "2020-10-03T11:33:40.360382",
     "exception": false,
     "start_time": "2020-10-03T11:33:40.278028",
     "status": "completed"
    },
    "tags": []
   },
   "outputs": [
    {
     "data": {
      "text/html": [
       "<div>\n",
       "<style scoped>\n",
       "    .dataframe tbody tr th:only-of-type {\n",
       "        vertical-align: middle;\n",
       "    }\n",
       "\n",
       "    .dataframe tbody tr th {\n",
       "        vertical-align: top;\n",
       "    }\n",
       "\n",
       "    .dataframe thead th {\n",
       "        text-align: right;\n",
       "    }\n",
       "</style>\n",
       "<table border=\"1\" class=\"dataframe\">\n",
       "  <thead>\n",
       "    <tr style=\"text-align: right;\">\n",
       "      <th></th>\n",
       "      <th>Name of the show</th>\n",
       "      <th>Year of release</th>\n",
       "      <th>No of seasons available</th>\n",
       "      <th>Language</th>\n",
       "      <th>Genre</th>\n",
       "      <th>IMDb rating</th>\n",
       "      <th>Age of viewers</th>\n",
       "    </tr>\n",
       "  </thead>\n",
       "  <tbody>\n",
       "    <tr>\n",
       "      <th>229</th>\n",
       "      <td>Forensic Files</td>\n",
       "      <td>1998</td>\n",
       "      <td>20</td>\n",
       "      <td>English</td>\n",
       "      <td>Documentary</td>\n",
       "      <td>NaN</td>\n",
       "      <td>13+</td>\n",
       "    </tr>\n",
       "  </tbody>\n",
       "</table>\n",
       "</div>"
      ],
      "text/plain": [
       "    Name of the show  Year of release  No of seasons available Language  \\\n",
       "229   Forensic Files             1998                       20  English   \n",
       "\n",
       "           Genre  IMDb rating Age of viewers  \n",
       "229  Documentary          NaN            13+  "
      ]
     },
     "execution_count": 30,
     "metadata": {},
     "output_type": "execute_result"
    }
   ],
   "source": [
    "prime_df[prime_df['No of seasons available'] == prime_df['No of seasons available'].max()]"
   ]
  },
  {
   "cell_type": "markdown",
   "metadata": {
    "papermill": {
     "duration": 0.062292,
     "end_time": "2020-10-03T11:33:40.486424",
     "exception": false,
     "start_time": "2020-10-03T11:33:40.424132",
     "status": "completed"
    },
    "tags": []
   },
   "source": [
    "# Highest rated shows with 5 seasons or more\n",
    "If you want to watch a long series with more than 5 seasons then probably you would have to choose from the following shows.."
   ]
  },
  {
   "cell_type": "code",
   "execution_count": 31,
   "metadata": {
    "execution": {
     "iopub.execute_input": "2020-10-03T11:33:40.637125Z",
     "iopub.status.busy": "2020-10-03T11:33:40.635995Z",
     "iopub.status.idle": "2020-10-03T11:33:40.640962Z",
     "shell.execute_reply": "2020-10-03T11:33:40.641582Z"
    },
    "papermill": {
     "duration": 0.088398,
     "end_time": "2020-10-03T11:33:40.641769",
     "exception": false,
     "start_time": "2020-10-03T11:33:40.553371",
     "status": "completed"
    },
    "tags": []
   },
   "outputs": [
    {
     "data": {
      "text/html": [
       "<div>\n",
       "<style scoped>\n",
       "    .dataframe tbody tr th:only-of-type {\n",
       "        vertical-align: middle;\n",
       "    }\n",
       "\n",
       "    .dataframe tbody tr th {\n",
       "        vertical-align: top;\n",
       "    }\n",
       "\n",
       "    .dataframe thead th {\n",
       "        text-align: right;\n",
       "    }\n",
       "</style>\n",
       "<table border=\"1\" class=\"dataframe\">\n",
       "  <thead>\n",
       "    <tr style=\"text-align: right;\">\n",
       "      <th></th>\n",
       "      <th>Name of the show</th>\n",
       "      <th>Year of release</th>\n",
       "      <th>No of seasons available</th>\n",
       "      <th>Language</th>\n",
       "      <th>Genre</th>\n",
       "      <th>IMDb rating</th>\n",
       "      <th>Age of viewers</th>\n",
       "    </tr>\n",
       "  </thead>\n",
       "  <tbody>\n",
       "    <tr>\n",
       "      <th>281</th>\n",
       "      <td>Seinfeld</td>\n",
       "      <td>1990</td>\n",
       "      <td>9</td>\n",
       "      <td>English</td>\n",
       "      <td>Comedy</td>\n",
       "      <td>8.8</td>\n",
       "      <td>13+</td>\n",
       "    </tr>\n",
       "    <tr>\n",
       "      <th>49</th>\n",
       "      <td>Downtown Abbey</td>\n",
       "      <td>2010</td>\n",
       "      <td>6</td>\n",
       "      <td>English</td>\n",
       "      <td>Drama</td>\n",
       "      <td>8.7</td>\n",
       "      <td>7+</td>\n",
       "    </tr>\n",
       "    <tr>\n",
       "      <th>40</th>\n",
       "      <td>Dexter</td>\n",
       "      <td>2006</td>\n",
       "      <td>8</td>\n",
       "      <td>English</td>\n",
       "      <td>Drama</td>\n",
       "      <td>8.6</td>\n",
       "      <td>18+</td>\n",
       "    </tr>\n",
       "    <tr>\n",
       "      <th>436</th>\n",
       "      <td>Tumble Leaf</td>\n",
       "      <td>2014</td>\n",
       "      <td>6</td>\n",
       "      <td>English</td>\n",
       "      <td>Kids</td>\n",
       "      <td>8.6</td>\n",
       "      <td>All</td>\n",
       "    </tr>\n",
       "    <tr>\n",
       "      <th>47</th>\n",
       "      <td>Shameless</td>\n",
       "      <td>2011</td>\n",
       "      <td>10</td>\n",
       "      <td>English</td>\n",
       "      <td>Comedy, Drama</td>\n",
       "      <td>8.6</td>\n",
       "      <td>18+</td>\n",
       "    </tr>\n",
       "    <tr>\n",
       "      <th>105</th>\n",
       "      <td>Mad Men</td>\n",
       "      <td>2007</td>\n",
       "      <td>7</td>\n",
       "      <td>English</td>\n",
       "      <td>Drama</td>\n",
       "      <td>8.6</td>\n",
       "      <td>16+</td>\n",
       "    </tr>\n",
       "    <tr>\n",
       "      <th>28</th>\n",
       "      <td>Suits</td>\n",
       "      <td>2011</td>\n",
       "      <td>8</td>\n",
       "      <td>English</td>\n",
       "      <td>Drama</td>\n",
       "      <td>8.5</td>\n",
       "      <td>16+</td>\n",
       "    </tr>\n",
       "    <tr>\n",
       "      <th>39</th>\n",
       "      <td>Supernatural</td>\n",
       "      <td>2006</td>\n",
       "      <td>15</td>\n",
       "      <td>English</td>\n",
       "      <td>Drama, Suspense, Horror</td>\n",
       "      <td>8.4</td>\n",
       "      <td>16+</td>\n",
       "    </tr>\n",
       "    <tr>\n",
       "      <th>67</th>\n",
       "      <td>Fringe</td>\n",
       "      <td>2009</td>\n",
       "      <td>5</td>\n",
       "      <td>English</td>\n",
       "      <td>Sci-fi</td>\n",
       "      <td>8.4</td>\n",
       "      <td>16+</td>\n",
       "    </tr>\n",
       "    <tr>\n",
       "      <th>68</th>\n",
       "      <td>Person of Interest</td>\n",
       "      <td>2012</td>\n",
       "      <td>5</td>\n",
       "      <td>English</td>\n",
       "      <td>Drama, Action, Suspense</td>\n",
       "      <td>8.4</td>\n",
       "      <td>16+</td>\n",
       "    </tr>\n",
       "  </tbody>\n",
       "</table>\n",
       "</div>"
      ],
      "text/plain": [
       "       Name of the show  Year of release  No of seasons available Language  \\\n",
       "281            Seinfeld             1990                        9  English   \n",
       "49       Downtown Abbey             2010                        6  English   \n",
       "40               Dexter             2006                        8  English   \n",
       "436         Tumble Leaf             2014                        6  English   \n",
       "47            Shameless             2011                       10  English   \n",
       "105             Mad Men             2007                        7  English   \n",
       "28                Suits             2011                        8  English   \n",
       "39         Supernatural             2006                       15  English   \n",
       "67               Fringe             2009                        5  English   \n",
       "68   Person of Interest             2012                        5  English   \n",
       "\n",
       "                       Genre  IMDb rating Age of viewers  \n",
       "281                   Comedy          8.8            13+  \n",
       "49                     Drama          8.7             7+  \n",
       "40                     Drama          8.6            18+  \n",
       "436                     Kids          8.6            All  \n",
       "47             Comedy, Drama          8.6            18+  \n",
       "105                    Drama          8.6            16+  \n",
       "28                     Drama          8.5            16+  \n",
       "39   Drama, Suspense, Horror          8.4            16+  \n",
       "67                    Sci-fi          8.4            16+  \n",
       "68   Drama, Action, Suspense          8.4            16+  "
      ]
     },
     "execution_count": 31,
     "metadata": {},
     "output_type": "execute_result"
    }
   ],
   "source": [
    "prime_df[prime_df['No of seasons available'] >= 5].sort_values(by = 'IMDb rating', ascending = False).head(10)"
   ]
  },
  {
   "cell_type": "markdown",
   "metadata": {
    "papermill": {
     "duration": 0.06276,
     "end_time": "2020-10-03T11:33:40.768558",
     "exception": false,
     "start_time": "2020-10-03T11:33:40.705798",
     "status": "completed"
    },
    "tags": []
   },
   "source": [
    "# The oldest show available on Amazon Prime"
   ]
  },
  {
   "cell_type": "code",
   "execution_count": 32,
   "metadata": {
    "execution": {
     "iopub.execute_input": "2020-10-03T11:33:40.911228Z",
     "iopub.status.busy": "2020-10-03T11:33:40.906888Z",
     "iopub.status.idle": "2020-10-03T11:33:40.916106Z",
     "shell.execute_reply": "2020-10-03T11:33:40.915497Z"
    },
    "papermill": {
     "duration": 0.084041,
     "end_time": "2020-10-03T11:33:40.916250",
     "exception": false,
     "start_time": "2020-10-03T11:33:40.832209",
     "status": "completed"
    },
    "tags": []
   },
   "outputs": [
    {
     "data": {
      "text/html": [
       "<div>\n",
       "<style scoped>\n",
       "    .dataframe tbody tr th:only-of-type {\n",
       "        vertical-align: middle;\n",
       "    }\n",
       "\n",
       "    .dataframe tbody tr th {\n",
       "        vertical-align: top;\n",
       "    }\n",
       "\n",
       "    .dataframe thead th {\n",
       "        text-align: right;\n",
       "    }\n",
       "</style>\n",
       "<table border=\"1\" class=\"dataframe\">\n",
       "  <thead>\n",
       "    <tr style=\"text-align: right;\">\n",
       "      <th></th>\n",
       "      <th>Name of the show</th>\n",
       "      <th>Year of release</th>\n",
       "      <th>No of seasons available</th>\n",
       "      <th>Language</th>\n",
       "      <th>Genre</th>\n",
       "      <th>IMDb rating</th>\n",
       "      <th>Age of viewers</th>\n",
       "    </tr>\n",
       "  </thead>\n",
       "  <tbody>\n",
       "    <tr>\n",
       "      <th>201</th>\n",
       "      <td>The Cecil B. DeMille Classics Collection</td>\n",
       "      <td>1926</td>\n",
       "      <td>1</td>\n",
       "      <td>English</td>\n",
       "      <td>Drama</td>\n",
       "      <td>NaN</td>\n",
       "      <td>13+</td>\n",
       "    </tr>\n",
       "  </tbody>\n",
       "</table>\n",
       "</div>"
      ],
      "text/plain": [
       "                             Name of the show  Year of release  \\\n",
       "201  The Cecil B. DeMille Classics Collection             1926   \n",
       "\n",
       "     No of seasons available Language  Genre  IMDb rating Age of viewers  \n",
       "201                        1  English  Drama          NaN            13+  "
      ]
     },
     "execution_count": 32,
     "metadata": {},
     "output_type": "execute_result"
    }
   ],
   "source": [
    "prime_df[prime_df['Year of release'] == prime_df['Year of release'].min()]"
   ]
  }
 ],
 "metadata": {
  "kernelspec": {
   "display_name": "Python 3",
   "language": "python",
   "name": "python3"
  },
  "language_info": {
   "codemirror_mode": {
    "name": "ipython",
    "version": 3
   },
   "file_extension": ".py",
   "mimetype": "text/x-python",
   "name": "python",
   "nbconvert_exporter": "python",
   "pygments_lexer": "ipython3",
   "version": "3.7.6"
  },
  "papermill": {
   "duration": 16.276091,
   "end_time": "2020-10-03T11:33:41.089562",
   "environment_variables": {},
   "exception": null,
   "input_path": "__notebook__.ipynb",
   "output_path": "__notebook__.ipynb",
   "parameters": {},
   "start_time": "2020-10-03T11:33:24.813471",
   "version": "2.1.0"
  }
 },
 "nbformat": 4,
 "nbformat_minor": 4
}
